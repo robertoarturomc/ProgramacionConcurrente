{
  "cells": [
    {
      "cell_type": "markdown",
      "metadata": {
        "id": "view-in-github",
        "colab_type": "text"
      },
      "source": [
        "<a href=\"https://colab.research.google.com/github/robertoarturomc/ProgramacionConcurrente/blob/main/16_Multiprocessing_en_Python_II.ipynb\" target=\"_parent\"><img src=\"https://colab.research.google.com/assets/colab-badge.svg\" alt=\"Open In Colab\"/></a>"
      ]
    },
    {
      "cell_type": "markdown",
      "metadata": {
        "id": "8UQAJS17EEaI"
      },
      "source": [
        "### Programación Concurrente\n",
        "## 16. Multiprocessing en Python II\n",
        "\n",
        "¿Qué sucede si necesitamos crear varios procesos para manejar tareas que consumen más CPU? ¿Siempre debemos iniciar y esperar explícitamente a que finalicen? La solución aquí es usar la clase `Pool`.\n",
        "\n",
        "\n",
        "\n"
      ]
    },
    {
      "cell_type": "code",
      "execution_count": 1,
      "metadata": {
        "id": "2b5_GIwL8CzY"
      },
      "outputs": [],
      "source": [
        "import multiprocessing\n",
        "import time\n",
        "import math"
      ]
    },
    {
      "cell_type": "code",
      "execution_count": 2,
      "metadata": {
        "colab": {
          "base_uri": "https://localhost:8080/"
        },
        "id": "mbrisgds8IMf",
        "outputId": "0ef43e91-52a3-4d08-bd9a-76cfacc0bc47"
      },
      "outputs": [
        {
          "output_type": "stream",
          "name": "stdout",
          "text": [
            "¡Programa Terminado!\n"
          ]
        }
      ],
      "source": [
        "# ¿Qué pasa si queremos calcular los cubos de todos los números, del 1 al 5,000,000?\n",
        "\n",
        "N = 5000000\n",
        "\n",
        "def cube(x):\n",
        "    return math.sqrt(x)\n",
        "\n",
        "with multiprocessing.Pool() as pool:\n",
        "  result = pool.map(cube, range(10,N))\n",
        "  print(\"¡Programa Terminado!\")"
      ]
    },
    {
      "cell_type": "markdown",
      "metadata": {
        "id": "EbQzLj0-9Veo"
      },
      "source": [
        "Repitámoslo de nuevo; primero de manera Secuencial y de manera Concurrente con Multiprocesos (usando Pool)."
      ]
    },
    {
      "cell_type": "code",
      "execution_count": 5,
      "metadata": {
        "colab": {
          "base_uri": "https://localhost:8080/"
        },
        "id": "oIFyPSqN-FTz",
        "outputId": "a86757e6-64a0-474e-d466-d47cf98f10b6"
      },
      "outputs": [
        {
          "output_type": "stream",
          "name": "stdout",
          "text": [
            "Programa Secuencial Terminado\n",
            "Se tardó  1.4213576316833496 segundos\n"
          ]
        }
      ],
      "source": [
        "start = time.time()\n",
        "\n",
        "for i in range(10, N):\n",
        "  cube(i)\n",
        "\n",
        "print(\"Programa Secuencial Terminado\")\n",
        "\n",
        "end = time.time()\n",
        "\n",
        "print(\"Se tardó \", end-start, \"segundos\")"
      ]
    },
    {
      "cell_type": "code",
      "execution_count": 6,
      "metadata": {
        "colab": {
          "base_uri": "https://localhost:8080/"
        },
        "id": "IrNWGAQ8-oLD",
        "outputId": "37f0b9d5-8d87-499d-ac45-1914f0f1631e"
      },
      "outputs": [
        {
          "output_type": "stream",
          "name": "stdout",
          "text": [
            "¡Programa Terminado!\n",
            "Programa Concurrente con Multi-procesos Terminado\n",
            "Se tardó  2.0609076023101807 segundos\n"
          ]
        }
      ],
      "source": [
        "start = time.time()\n",
        "\n",
        "with multiprocessing.Pool() as pool:\n",
        "  result = pool.map(cube, range(10,N))\n",
        "  print(\"¡Programa Terminado!\")\n",
        "\n",
        "print(\"Programa Concurrente con Multi-procesos Terminado\")\n",
        "\n",
        "end = time.time()\n",
        "\n",
        "print(\"Se tardó \", end-start, \"segundos\")"
      ]
    },
    {
      "cell_type": "markdown",
      "metadata": {
        "id": "5Cx6CeGh7NrH"
      },
      "source": [
        "El número de procesos que tu computadora es capaz de soportar depende del número de Núcelos que tu Procesador (CPU) tiene.\n",
        "\n",
        "Por default,  `Pool` crea ese mayor número posible de procesos, dependiendo de mis núcleos. Pero, puedo darle un valor con el parámetro *processes*.\n"
      ]
    },
    {
      "cell_type": "code",
      "execution_count": 7,
      "metadata": {
        "colab": {
          "base_uri": "https://localhost:8080/"
        },
        "id": "lSZ3iltb-DJY",
        "outputId": "4009b36a-ac09-46aa-96d7-32b6ee1a73e5"
      },
      "outputs": [
        {
          "output_type": "stream",
          "name": "stdout",
          "text": [
            "fib(0) = 0\n",
            "fib(1) = 1\n",
            "fib(2) = 1\n",
            "fib(3) = 2\n",
            "fib(4) = 3\n",
            "fib(5) = 5\n",
            "fib(6) = 8\n",
            "fib(7) = 13\n",
            "fib(8) = 21\n",
            "fib(9) = 34\n",
            "fib(10) = 55\n",
            "fib(11) = 89\n",
            "fib(12) = 144\n",
            "fib(13) = 233\n",
            "fib(14) = 377\n",
            "fib(15) = 610\n",
            "fib(16) = 987\n",
            "fib(17) = 1597\n",
            "fib(18) = 2584\n",
            "fib(19) = 4181\n",
            "fib(20) = 6765\n",
            "fib(21) = 10946\n",
            "fib(22) = 17711\n",
            "fib(23) = 28657\n",
            "fib(24) = 46368\n",
            "fib(25) = 75025\n",
            "fib(26) = 121393\n",
            "fib(27) = 196418\n",
            "fib(28) = 317811\n",
            "fib(29) = 514229\n",
            "fib(30) = 832040\n",
            "fib(31) = 1346269\n",
            "fib(32) = 2178309\n",
            "fib(33) = 3524578\n",
            "fib(34) = 5702887\n",
            "fib(35) = 9227465\n",
            "fib(36) = 14930352\n",
            "fib(37) = 24157817\n",
            "fib(38) = 39088169\n",
            "fib(39) = 63245986\n"
          ]
        }
      ],
      "source": [
        "def fib(n):\n",
        "    return n if n < 2 else fib(n - 2) + fib(n - 1)\n",
        "\n",
        "with multiprocessing.Pool(processes=4) as pool:\n",
        "  results = pool.map(fib, range(40))\n",
        "  for i, result in enumerate(results):\n",
        "      print(f\"fib({i}) = {result}\")"
      ]
    },
    {
      "cell_type": "markdown",
      "metadata": {
        "id": "6i1F5T-g-DnJ"
      },
      "source": [
        "\n",
        "\n",
        "Por cierto, para ver cuántos núcleos tiene tu Procesador, presiona Ctrl + Shift + Del (Supr) para abrir el Administrador de Tareas en WIndows.\n"
      ]
    },
    {
      "cell_type": "code",
      "execution_count": null,
      "metadata": {
        "id": "6SntL_0l-CZJ"
      },
      "outputs": [],
      "source": []
    }
  ],
  "metadata": {
    "colab": {
      "provenance": [],
      "include_colab_link": true
    },
    "kernelspec": {
      "display_name": "Python 3",
      "name": "python3"
    },
    "language_info": {
      "name": "python"
    }
  },
  "nbformat": 4,
  "nbformat_minor": 0
}