{
  "cells": [
    {
      "cell_type": "markdown",
      "metadata": {
        "id": "view-in-github",
        "colab_type": "text"
      },
      "source": [
        "<a href=\"https://colab.research.google.com/github/robertoarturomc/ProgramacionConcurrente/blob/main/16_Multiprocessing_en_Python_II.ipynb\" target=\"_parent\"><img src=\"https://colab.research.google.com/assets/colab-badge.svg\" alt=\"Open In Colab\"/></a>"
      ]
    },
    {
      "cell_type": "markdown",
      "metadata": {
        "id": "8UQAJS17EEaI"
      },
      "source": [
        "### Programación Concurrente\n",
        "## 16. Multiprocessing en Python II\n",
        "\n",
        "¿Qué sucede si necesitamos crear varios procesos para manejar tareas que consumen más CPU? ¿Siempre debemos iniciar y esperar explícitamente a que finalicen? La solución aquí es usar la clase `Pool`.\n",
        "\n",
        "\n",
        "\n"
      ]
    },
    {
      "cell_type": "code",
      "execution_count": 1,
      "metadata": {
        "id": "2b5_GIwL8CzY"
      },
      "outputs": [],
      "source": [
        "import multiprocessing\n",
        "import time\n",
        "import math"
      ]
    },
    {
      "cell_type": "code",
      "execution_count": 2,
      "metadata": {
        "colab": {
          "base_uri": "https://localhost:8080/"
        },
        "id": "mbrisgds8IMf",
        "outputId": "d0293c2c-c334-4322-c9c3-5e8f6e88475d"
      },
      "outputs": [
        {
          "output_type": "stream",
          "name": "stdout",
          "text": [
            "¡Programa Terminado!\n"
          ]
        }
      ],
      "source": [
        "# ¿Qué pasa si queremos calcular los cubos de todos los números, del 1 al 5,000,000?\n",
        "\n",
        "N = 5000000\n",
        "\n",
        "def cube(x):\n",
        "    return math.sqrt(x)\n",
        "\n",
        "with multiprocessing.Pool() as pool:\n",
        "  result = pool.map(cube, range(10,N))\n",
        "  print(\"¡Programa Terminado!\")"
      ]
    },
    {
      "cell_type": "markdown",
      "metadata": {
        "id": "EbQzLj0-9Veo"
      },
      "source": [
        "Repitámoslo de nuevo; primero de manera Secuencial y de manera Concurrente con Multiprocesos (usando Pool)."
      ]
    },
    {
      "cell_type": "code",
      "execution_count": 3,
      "metadata": {
        "colab": {
          "base_uri": "https://localhost:8080/"
        },
        "id": "oIFyPSqN-FTz",
        "outputId": "19be2909-6dcc-4e2c-bd05-a2611435ea01"
      },
      "outputs": [
        {
          "output_type": "stream",
          "name": "stdout",
          "text": [
            "Programa Secuencial Terminado\n",
            "Se tardó  1.3141217231750488 segundos\n"
          ]
        }
      ],
      "source": [
        "start = time.time()\n",
        "\n",
        "for i in range(10, N):\n",
        "  cube(i)\n",
        "\n",
        "print(\"Programa Secuencial Terminado\")\n",
        "\n",
        "end = time.time()\n",
        "\n",
        "print(\"Se tardó \", end-start, \"segundos\")"
      ]
    },
    {
      "cell_type": "code",
      "execution_count": 10,
      "metadata": {
        "colab": {
          "base_uri": "https://localhost:8080/"
        },
        "id": "IrNWGAQ8-oLD",
        "outputId": "258f4174-7f6b-4b30-9be0-a68c5027ab8e"
      },
      "outputs": [
        {
          "output_type": "stream",
          "name": "stdout",
          "text": [
            "¡Programa Terminado!\n",
            "Programa Concurrente con Multi-procesos Terminado\n",
            "Se tardó  1.2114038467407227 segundos\n"
          ]
        }
      ],
      "source": [
        "start = time.time()\n",
        "\n",
        "with multiprocessing.Pool() as pool:\n",
        "  result = pool.map(cube, range(10,N))\n",
        "  print(\"¡Programa Terminado!\")\n",
        "\n",
        "print(\"Programa Concurrente con Multi-procesos Terminado\")\n",
        "\n",
        "end = time.time()\n",
        "\n",
        "print(\"Se tardó \", end-start, \"segundos\")"
      ]
    },
    {
      "cell_type": "markdown",
      "metadata": {
        "id": "5Cx6CeGh7NrH"
      },
      "source": [
        "El número de procesos que tu computadora es capaz de soportar depende del número de Núcelos que tu Procesador (CPU) tiene.\n",
        "\n",
        "Por default,  `Pool` crea ese mayor número posible de procesos, dependiendo de mis núcleos. Pero, puedo darle un valor con el parámetro *processes*.\n"
      ]
    },
    {
      "cell_type": "code",
      "execution_count": 7,
      "metadata": {
        "colab": {
          "base_uri": "https://localhost:8080/"
        },
        "id": "lSZ3iltb-DJY",
        "outputId": "4009b36a-ac09-46aa-96d7-32b6ee1a73e5"
      },
      "outputs": [
        {
          "output_type": "stream",
          "name": "stdout",
          "text": [
            "fib(0) = 0\n",
            "fib(1) = 1\n",
            "fib(2) = 1\n",
            "fib(3) = 2\n",
            "fib(4) = 3\n",
            "fib(5) = 5\n",
            "fib(6) = 8\n",
            "fib(7) = 13\n",
            "fib(8) = 21\n",
            "fib(9) = 34\n",
            "fib(10) = 55\n",
            "fib(11) = 89\n",
            "fib(12) = 144\n",
            "fib(13) = 233\n",
            "fib(14) = 377\n",
            "fib(15) = 610\n",
            "fib(16) = 987\n",
            "fib(17) = 1597\n",
            "fib(18) = 2584\n",
            "fib(19) = 4181\n",
            "fib(20) = 6765\n",
            "fib(21) = 10946\n",
            "fib(22) = 17711\n",
            "fib(23) = 28657\n",
            "fib(24) = 46368\n",
            "fib(25) = 75025\n",
            "fib(26) = 121393\n",
            "fib(27) = 196418\n",
            "fib(28) = 317811\n",
            "fib(29) = 514229\n",
            "fib(30) = 832040\n",
            "fib(31) = 1346269\n",
            "fib(32) = 2178309\n",
            "fib(33) = 3524578\n",
            "fib(34) = 5702887\n",
            "fib(35) = 9227465\n",
            "fib(36) = 14930352\n",
            "fib(37) = 24157817\n",
            "fib(38) = 39088169\n",
            "fib(39) = 63245986\n"
          ]
        }
      ],
      "source": [
        "def fib(n):\n",
        "    return n if n < 2 else fib(n - 2) + fib(n - 1)\n",
        "\n",
        "with multiprocessing.Pool(processes=4) as pool:\n",
        "  results = pool.map(fib, range(40))\n",
        "  for i, result in enumerate(results):\n",
        "      print(f\"fib({i}) = {result}\")"
      ]
    },
    {
      "cell_type": "markdown",
      "source": [
        "Recuerda que arrancar un Proceso toma tiempo. Al crear un proceso, el sistema operativo debe copiar memoria, cargar recursos y crear un nuevo entorno de ejecución (con su propio espacio de memoria, variables, etc.).\n",
        "¡Arrancar un proceso es más pesado que crear un hilo!"
      ],
      "metadata": {
        "id": "mPI1YjlGWXhk"
      }
    },
    {
      "cell_type": "code",
      "source": [
        "# executor_map.py\n",
        "from concurrent.futures import ProcessPoolExecutor, as_completed\n",
        "from math import factorial\n",
        "from time import perf_counter\n",
        "\n",
        "def tarea(n: int) -> int:\n",
        "    # Algo CPU-bound (factorial grande)\n",
        "    return sum(int(d) for d in str(factorial(n)))\n",
        "\n",
        "if __name__ == \"__main__\":\n",
        "    nums = list(range(30_000, 30_100))  # 100 tareas\n",
        "    t0 = perf_counter()\n",
        "    results = {}\n",
        "    with ProcessPoolExecutor() as ex:\n",
        "        futs = {ex.submit(tarea, n): n for n in nums}\n",
        "        for fut in as_completed(futs):\n",
        "            n = futs[fut]\n",
        "            results[n] = fut.result()\n",
        "            # aquí podrías reportar progreso\n",
        "\n",
        "    print(f\"Ejemplos: {list(results.items())[:3]}\")\n",
        "    print(f\"Total tareas: {len(results)}  |  Tiempo: {perf_counter()-t0:.2f}s\")"
      ],
      "metadata": {
        "id": "l0MTftW3WR1h",
        "outputId": "5a923ddf-67e6-417c-bcfa-6ea26a7a3eb7",
        "colab": {
          "base_uri": "https://localhost:8080/",
          "height": 616
        }
      },
      "execution_count": 19,
      "outputs": [
        {
          "output_type": "error",
          "ename": "ValueError",
          "evalue": "Exceeds the limit (2000 digits) for integer string conversion; use sys.set_int_max_str_digits() to increase the limit",
          "traceback": [
            "\u001b[0;31m---------------------------------------------------------------------------\u001b[0m",
            "\u001b[0;31m_RemoteTraceback\u001b[0m                          Traceback (most recent call last)",
            "\u001b[0;31m_RemoteTraceback\u001b[0m: \n\"\"\"\nTraceback (most recent call last):\n  File \"/usr/lib/python3.12/concurrent/futures/process.py\", line 264, in _process_worker\n    r = call_item.fn(*call_item.args, **call_item.kwargs)\n        ^^^^^^^^^^^^^^^^^^^^^^^^^^^^^^^^^^^^^^^^^^^^^^^^^\n  File \"/tmp/ipython-input-581762460.py\", line 8, in tarea\n    return sum(int(d) for d in str(factorial(n)))\n                               ^^^^^^^^^^^^^^^^^\nValueError: Exceeds the limit (2000 digits) for integer string conversion; use sys.set_int_max_str_digits() to increase the limit\n\"\"\"",
            "\nThe above exception was the direct cause of the following exception:\n",
            "\u001b[0;31mValueError\u001b[0m                                Traceback (most recent call last)",
            "\u001b[0;32m/tmp/ipython-input-581762460.py\u001b[0m in \u001b[0;36m<cell line: 0>\u001b[0;34m()\u001b[0m\n\u001b[1;32m     16\u001b[0m         \u001b[0;32mfor\u001b[0m \u001b[0mfut\u001b[0m \u001b[0;32min\u001b[0m \u001b[0mas_completed\u001b[0m\u001b[0;34m(\u001b[0m\u001b[0mfuts\u001b[0m\u001b[0;34m)\u001b[0m\u001b[0;34m:\u001b[0m\u001b[0;34m\u001b[0m\u001b[0;34m\u001b[0m\u001b[0m\n\u001b[1;32m     17\u001b[0m             \u001b[0mn\u001b[0m \u001b[0;34m=\u001b[0m \u001b[0mfuts\u001b[0m\u001b[0;34m[\u001b[0m\u001b[0mfut\u001b[0m\u001b[0;34m]\u001b[0m\u001b[0;34m\u001b[0m\u001b[0;34m\u001b[0m\u001b[0m\n\u001b[0;32m---> 18\u001b[0;31m             \u001b[0mresults\u001b[0m\u001b[0;34m[\u001b[0m\u001b[0mn\u001b[0m\u001b[0;34m]\u001b[0m \u001b[0;34m=\u001b[0m \u001b[0mfut\u001b[0m\u001b[0;34m.\u001b[0m\u001b[0mresult\u001b[0m\u001b[0;34m(\u001b[0m\u001b[0;34m)\u001b[0m\u001b[0;34m\u001b[0m\u001b[0;34m\u001b[0m\u001b[0m\n\u001b[0m\u001b[1;32m     19\u001b[0m             \u001b[0;31m# aquí podrías reportar progreso\u001b[0m\u001b[0;34m\u001b[0m\u001b[0;34m\u001b[0m\u001b[0m\n\u001b[1;32m     20\u001b[0m \u001b[0;34m\u001b[0m\u001b[0m\n",
            "\u001b[0;32m/usr/lib/python3.12/concurrent/futures/_base.py\u001b[0m in \u001b[0;36mresult\u001b[0;34m(self, timeout)\u001b[0m\n\u001b[1;32m    447\u001b[0m                     \u001b[0;32mraise\u001b[0m \u001b[0mCancelledError\u001b[0m\u001b[0;34m(\u001b[0m\u001b[0;34m)\u001b[0m\u001b[0;34m\u001b[0m\u001b[0;34m\u001b[0m\u001b[0m\n\u001b[1;32m    448\u001b[0m                 \u001b[0;32melif\u001b[0m \u001b[0mself\u001b[0m\u001b[0;34m.\u001b[0m\u001b[0m_state\u001b[0m \u001b[0;34m==\u001b[0m \u001b[0mFINISHED\u001b[0m\u001b[0;34m:\u001b[0m\u001b[0;34m\u001b[0m\u001b[0;34m\u001b[0m\u001b[0m\n\u001b[0;32m--> 449\u001b[0;31m                     \u001b[0;32mreturn\u001b[0m \u001b[0mself\u001b[0m\u001b[0;34m.\u001b[0m\u001b[0m__get_result\u001b[0m\u001b[0;34m(\u001b[0m\u001b[0;34m)\u001b[0m\u001b[0;34m\u001b[0m\u001b[0;34m\u001b[0m\u001b[0m\n\u001b[0m\u001b[1;32m    450\u001b[0m \u001b[0;34m\u001b[0m\u001b[0m\n\u001b[1;32m    451\u001b[0m                 \u001b[0mself\u001b[0m\u001b[0;34m.\u001b[0m\u001b[0m_condition\u001b[0m\u001b[0;34m.\u001b[0m\u001b[0mwait\u001b[0m\u001b[0;34m(\u001b[0m\u001b[0mtimeout\u001b[0m\u001b[0;34m)\u001b[0m\u001b[0;34m\u001b[0m\u001b[0;34m\u001b[0m\u001b[0m\n",
            "\u001b[0;32m/usr/lib/python3.12/concurrent/futures/_base.py\u001b[0m in \u001b[0;36m__get_result\u001b[0;34m(self)\u001b[0m\n\u001b[1;32m    399\u001b[0m         \u001b[0;32mif\u001b[0m \u001b[0mself\u001b[0m\u001b[0;34m.\u001b[0m\u001b[0m_exception\u001b[0m\u001b[0;34m:\u001b[0m\u001b[0;34m\u001b[0m\u001b[0;34m\u001b[0m\u001b[0m\n\u001b[1;32m    400\u001b[0m             \u001b[0;32mtry\u001b[0m\u001b[0;34m:\u001b[0m\u001b[0;34m\u001b[0m\u001b[0;34m\u001b[0m\u001b[0m\n\u001b[0;32m--> 401\u001b[0;31m                 \u001b[0;32mraise\u001b[0m \u001b[0mself\u001b[0m\u001b[0;34m.\u001b[0m\u001b[0m_exception\u001b[0m\u001b[0;34m\u001b[0m\u001b[0;34m\u001b[0m\u001b[0m\n\u001b[0m\u001b[1;32m    402\u001b[0m             \u001b[0;32mfinally\u001b[0m\u001b[0;34m:\u001b[0m\u001b[0;34m\u001b[0m\u001b[0;34m\u001b[0m\u001b[0m\n\u001b[1;32m    403\u001b[0m                 \u001b[0;31m# Break a reference cycle with the exception in self._exception\u001b[0m\u001b[0;34m\u001b[0m\u001b[0;34m\u001b[0m\u001b[0m\n",
            "\u001b[0;31mValueError\u001b[0m: Exceeds the limit (2000 digits) for integer string conversion; use sys.set_int_max_str_digits() to increase the limit"
          ]
        }
      ]
    },
    {
      "cell_type": "code",
      "source": [
        "import sys\n",
        "\n",
        "sys.set_int_max_str_digits(2000)"
      ],
      "metadata": {
        "id": "JQlib_7aXhYc"
      },
      "execution_count": 18,
      "outputs": []
    },
    {
      "cell_type": "markdown",
      "source": [
        "Por cierto, en Python es buena idea usar la condición:\n",
        "\n",
        "```\n",
        "if __name__ == \"__main__\":\n",
        "```\n",
        "\n",
        "Esto porque evita que el código se ejecute varias veces. Sin ese bloque, el código que crea los procesos se ejecutaría otra vez dentro de cada proceso hijo."
      ],
      "metadata": {
        "id": "qW4Zd3ohW6vG"
      }
    },
    {
      "cell_type": "markdown",
      "metadata": {
        "id": "6i1F5T-g-DnJ"
      },
      "source": [
        "\n",
        "\n",
        "Por cierto, para ver cuántos núcleos tiene tu Procesador, presiona Ctrl + Alt + Del (Supr) para abrir el Administrador de Tareas en WIndows.\n"
      ]
    },
    {
      "cell_type": "markdown",
      "source": [
        "### Tarea\n",
        "\n",
        "Leer este artículo:\n",
        "\n",
        "https://tonybaloney.github.io/posts/why-isnt-python-async-more-popular.html"
      ],
      "metadata": {
        "id": "GWOQPzvCQWjI"
      }
    },
    {
      "cell_type": "code",
      "source": [],
      "metadata": {
        "id": "NOUYII4SQX30"
      },
      "execution_count": null,
      "outputs": []
    }
  ],
  "metadata": {
    "colab": {
      "provenance": [],
      "include_colab_link": true
    },
    "kernelspec": {
      "display_name": "Python 3",
      "name": "python3"
    },
    "language_info": {
      "name": "python"
    }
  },
  "nbformat": 4,
  "nbformat_minor": 0
}