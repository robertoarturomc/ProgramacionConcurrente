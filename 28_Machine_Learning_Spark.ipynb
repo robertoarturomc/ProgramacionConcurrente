{
  "cells": [
    {
      "cell_type": "markdown",
      "metadata": {
        "id": "view-in-github",
        "colab_type": "text"
      },
      "source": [
        "<a href=\"https://colab.research.google.com/github/robertoarturomc/ProgramacionConcurrente/blob/main/28_Machine_Learning_Spark.ipynb\" target=\"_parent\"><img src=\"https://colab.research.google.com/assets/colab-badge.svg\" alt=\"Open In Colab\"/></a>"
      ]
    },
    {
      "cell_type": "markdown",
      "metadata": {
        "id": "8UQAJS17EEaI"
      },
      "source": [
        "### Programación Concurrente\n",
        "## 28. Machine Learning con Spark\n",
        "\n",
        "https://medium.com/data-science-school/practical-apache-spark-in-10-minutes-part-4-mllib-fca02fecf5b8\n",
        "\n",
        "https://www.databricks.com/glossary/what-is-rdd"
      ]
    },
    {
      "cell_type": "code",
      "source": [
        "from sklearn.datasets import load_iris\n",
        "from pyspark.sql import SparkSession\n",
        "\n",
        "import pandas as pd\n",
        "import numpy as np\n"
      ],
      "metadata": {
        "id": "XA6E9kNe6vrb"
      },
      "execution_count": 4,
      "outputs": []
    },
    {
      "cell_type": "code",
      "source": [
        "spark = SparkSession.builder.master(\"local[*]\").getOrCreate()\n",
        "spark"
      ],
      "metadata": {
        "colab": {
          "base_uri": "https://localhost:8080/",
          "height": 219
        },
        "id": "C7A4uqCv73BP",
        "outputId": "30d40e72-67e9-41ef-ff33-6ba1a116c038"
      },
      "execution_count": 5,
      "outputs": [
        {
          "output_type": "execute_result",
          "data": {
            "text/plain": [
              "<pyspark.sql.session.SparkSession at 0x78c8df67f010>"
            ],
            "text/html": [
              "\n",
              "            <div>\n",
              "                <p><b>SparkSession - in-memory</b></p>\n",
              "                \n",
              "        <div>\n",
              "            <p><b>SparkContext</b></p>\n",
              "\n",
              "            <p><a href=\"http://4a92ba3bb5b4:4040\">Spark UI</a></p>\n",
              "\n",
              "            <dl>\n",
              "              <dt>Version</dt>\n",
              "                <dd><code>v3.5.3</code></dd>\n",
              "              <dt>Master</dt>\n",
              "                <dd><code>local[*]</code></dd>\n",
              "              <dt>AppName</dt>\n",
              "                <dd><code>pyspark-shell</code></dd>\n",
              "            </dl>\n",
              "        </div>\n",
              "        \n",
              "            </div>\n",
              "        "
            ]
          },
          "metadata": {},
          "execution_count": 5
        }
      ]
    },
    {
      "cell_type": "code",
      "source": [
        "data = load_iris()\n",
        "cols = [i.replace('(cm)','').strip().replace(' ','_') for i in data.feature_names] + ['label'] # Column name cleanup\n",
        "pdf = pd.DataFrame(np.c_[data.data, data.target], columns=cols)\n",
        "df = spark.createDataFrame(pdf)\n",
        "df.show()"
      ],
      "metadata": {
        "colab": {
          "base_uri": "https://localhost:8080/"
        },
        "id": "Zvl-0mEr7x2l",
        "outputId": "25df3d4c-e8c8-4b8b-b9f4-80b64070be05"
      },
      "execution_count": 6,
      "outputs": [
        {
          "output_type": "stream",
          "name": "stdout",
          "text": [
            "+------------+-----------+------------+-----------+-----+\n",
            "|sepal_length|sepal_width|petal_length|petal_width|label|\n",
            "+------------+-----------+------------+-----------+-----+\n",
            "|         5.1|        3.5|         1.4|        0.2|  0.0|\n",
            "|         4.9|        3.0|         1.4|        0.2|  0.0|\n",
            "|         4.7|        3.2|         1.3|        0.2|  0.0|\n",
            "|         4.6|        3.1|         1.5|        0.2|  0.0|\n",
            "|         5.0|        3.6|         1.4|        0.2|  0.0|\n",
            "|         5.4|        3.9|         1.7|        0.4|  0.0|\n",
            "|         4.6|        3.4|         1.4|        0.3|  0.0|\n",
            "|         5.0|        3.4|         1.5|        0.2|  0.0|\n",
            "|         4.4|        2.9|         1.4|        0.2|  0.0|\n",
            "|         4.9|        3.1|         1.5|        0.1|  0.0|\n",
            "|         5.4|        3.7|         1.5|        0.2|  0.0|\n",
            "|         4.8|        3.4|         1.6|        0.2|  0.0|\n",
            "|         4.8|        3.0|         1.4|        0.1|  0.0|\n",
            "|         4.3|        3.0|         1.1|        0.1|  0.0|\n",
            "|         5.8|        4.0|         1.2|        0.2|  0.0|\n",
            "|         5.7|        4.4|         1.5|        0.4|  0.0|\n",
            "|         5.4|        3.9|         1.3|        0.4|  0.0|\n",
            "|         5.1|        3.5|         1.4|        0.3|  0.0|\n",
            "|         5.7|        3.8|         1.7|        0.3|  0.0|\n",
            "|         5.1|        3.8|         1.5|        0.3|  0.0|\n",
            "+------------+-----------+------------+-----------+-----+\n",
            "only showing top 20 rows\n",
            "\n"
          ]
        }
      ]
    },
    {
      "cell_type": "code",
      "source": [
        "data.keys()"
      ],
      "metadata": {
        "colab": {
          "base_uri": "https://localhost:8080/"
        },
        "id": "7Vvf_zD67yVO",
        "outputId": "6ad33235-6e3d-407e-872a-89f082a6baa3"
      },
      "execution_count": 11,
      "outputs": [
        {
          "output_type": "execute_result",
          "data": {
            "text/plain": [
              "dict_keys(['data', 'target', 'frame', 'target_names', 'DESCR', 'feature_names', 'filename', 'data_module'])"
            ]
          },
          "metadata": {},
          "execution_count": 11
        }
      ]
    },
    {
      "cell_type": "code",
      "source": [
        "np.c_?"
      ],
      "metadata": {
        "id": "26C0NtUi8FsR"
      },
      "execution_count": 12,
      "outputs": []
    },
    {
      "cell_type": "code",
      "source": [],
      "metadata": {
        "id": "NmuULdql8QTw"
      },
      "execution_count": null,
      "outputs": []
    }
  ],
  "metadata": {
    "colab": {
      "provenance": [],
      "include_colab_link": true
    },
    "kernelspec": {
      "display_name": "Python 3",
      "name": "python3"
    },
    "language_info": {
      "name": "python"
    }
  },
  "nbformat": 4,
  "nbformat_minor": 0
}