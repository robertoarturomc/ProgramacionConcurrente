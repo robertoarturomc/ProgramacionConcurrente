{
  "nbformat": 4,
  "nbformat_minor": 0,
  "metadata": {
    "colab": {
      "provenance": [],
      "authorship_tag": "ABX9TyPvW6q2CEsZ9CLr1+F101oX",
      "include_colab_link": true
    },
    "kernelspec": {
      "name": "ir",
      "display_name": "R"
    },
    "language_info": {
      "name": "R"
    }
  },
  "cells": [
    {
      "cell_type": "markdown",
      "metadata": {
        "id": "view-in-github",
        "colab_type": "text"
      },
      "source": [
        "<a href=\"https://colab.research.google.com/github/robertoarturomc/ProgramacionConcurrente/blob/main/4_Reto_Modelado_Estadistico.ipynb\" target=\"_parent\"><img src=\"https://colab.research.google.com/assets/colab-badge.svg\" alt=\"Open In Colab\"/></a>"
      ]
    },
    {
      "cell_type": "markdown",
      "source": [
        "### Reto Modelación Estadística\n",
        "## 4. Estadística"
      ],
      "metadata": {
        "id": "5mpPthRQDicZ"
      }
    },
    {
      "cell_type": "code",
      "source": [
        "install.packages(\"statsr\")\n",
        "install.packages(\"nortest\")\n",
        "library(statsr)\n",
        "library(nortest)"
      ],
      "metadata": {
        "colab": {
          "base_uri": "https://localhost:8080/",
          "height": 300
        },
        "id": "rZWQu4-juwDL",
        "outputId": "0b687011-058f-405b-9ab4-07b03844b495"
      },
      "execution_count": 38,
      "outputs": [
        {
          "output_type": "stream",
          "name": "stderr",
          "text": [
            "Installing package into ‘/usr/local/lib/R/site-library’\n",
            "(as ‘lib’ is unspecified)\n",
            "\n",
            "also installing the dependencies ‘elliptic’, ‘contfrac’, ‘deSolve’, ‘coda’, ‘pbapply’, ‘mvtnorm’, ‘MatrixModels’, ‘hypergeo’, ‘RcppEigen’, ‘BayesFactor’, ‘gridExtra’, ‘cubature’\n",
            "\n",
            "\n",
            "Warning message in install.packages(\"statsr\"):\n",
            "“installation of package ‘BayesFactor’ had non-zero exit status”\n",
            "Warning message in install.packages(\"statsr\"):\n",
            "“installation of package ‘statsr’ had non-zero exit status”\n"
          ]
        },
        {
          "output_type": "error",
          "ename": "ERROR",
          "evalue": "Error in library(statsr): there is no package called ‘statsr’\n",
          "traceback": [
            "Error in library(statsr): there is no package called ‘statsr’\nTraceback:\n",
            "1. stop(packageNotFoundError(package, lib.loc, sys.call()))"
          ]
        }
      ]
    },
    {
      "cell_type": "code",
      "execution_count": 8,
      "metadata": {
        "colab": {
          "base_uri": "https://localhost:8080/",
          "height": 306
        },
        "id": "hhtHaWt1CCeG",
        "outputId": "7664bf21-a972-4589-a2a0-a80b5ec96b52"
      },
      "outputs": [
        {
          "output_type": "display_data",
          "data": {
            "text/html": [
              "<table class=\"dataframe\">\n",
              "<caption>A data.frame: 6 × 18</caption>\n",
              "<thead>\n",
              "\t<tr><th></th><th scope=col>RowNumber</th><th scope=col>CustomerId</th><th scope=col>Surname</th><th scope=col>CreditScore</th><th scope=col>Geography</th><th scope=col>Gender</th><th scope=col>Age</th><th scope=col>Tenure</th><th scope=col>Balance</th><th scope=col>NumOfProducts</th><th scope=col>HasCrCard</th><th scope=col>IsActiveMember</th><th scope=col>EstimatedSalary</th><th scope=col>Exited</th><th scope=col>Complain</th><th scope=col>Satisfaction.Score</th><th scope=col>Card.Type</th><th scope=col>Point.Earned</th></tr>\n",
              "\t<tr><th></th><th scope=col>&lt;int&gt;</th><th scope=col>&lt;int&gt;</th><th scope=col>&lt;chr&gt;</th><th scope=col>&lt;int&gt;</th><th scope=col>&lt;chr&gt;</th><th scope=col>&lt;chr&gt;</th><th scope=col>&lt;int&gt;</th><th scope=col>&lt;int&gt;</th><th scope=col>&lt;dbl&gt;</th><th scope=col>&lt;int&gt;</th><th scope=col>&lt;int&gt;</th><th scope=col>&lt;int&gt;</th><th scope=col>&lt;dbl&gt;</th><th scope=col>&lt;int&gt;</th><th scope=col>&lt;int&gt;</th><th scope=col>&lt;int&gt;</th><th scope=col>&lt;chr&gt;</th><th scope=col>&lt;int&gt;</th></tr>\n",
              "</thead>\n",
              "<tbody>\n",
              "\t<tr><th scope=row>1</th><td>1</td><td>15634602</td><td>Hargrave</td><td>619</td><td>France</td><td>Female</td><td>42</td><td>2</td><td>     0.00</td><td>1</td><td>1</td><td>1</td><td>101348.88</td><td>1</td><td>1</td><td>2</td><td>DIAMOND</td><td>464</td></tr>\n",
              "\t<tr><th scope=row>2</th><td>2</td><td>15647311</td><td>Hill    </td><td>608</td><td>Spain </td><td>Female</td><td>41</td><td>1</td><td> 83807.86</td><td>1</td><td>0</td><td>1</td><td>112542.58</td><td>0</td><td>1</td><td>3</td><td>DIAMOND</td><td>456</td></tr>\n",
              "\t<tr><th scope=row>3</th><td>3</td><td>15619304</td><td>Onio    </td><td>502</td><td>France</td><td>Female</td><td>42</td><td>8</td><td>159660.80</td><td>3</td><td>1</td><td>0</td><td>113931.57</td><td>1</td><td>1</td><td>3</td><td>DIAMOND</td><td>377</td></tr>\n",
              "\t<tr><th scope=row>4</th><td>4</td><td>15701354</td><td>Boni    </td><td>699</td><td>France</td><td>Female</td><td>39</td><td>1</td><td>     0.00</td><td>2</td><td>0</td><td>0</td><td> 93826.63</td><td>0</td><td>0</td><td>5</td><td>GOLD   </td><td>350</td></tr>\n",
              "\t<tr><th scope=row>5</th><td>5</td><td>15737888</td><td>Mitchell</td><td>850</td><td>Spain </td><td>Female</td><td>43</td><td>2</td><td>125510.82</td><td>1</td><td>1</td><td>1</td><td> 79084.10</td><td>0</td><td>0</td><td>5</td><td>GOLD   </td><td>425</td></tr>\n",
              "\t<tr><th scope=row>6</th><td>6</td><td>15574012</td><td>Chu     </td><td>645</td><td>Spain </td><td>Male  </td><td>44</td><td>8</td><td>113755.78</td><td>2</td><td>1</td><td>0</td><td>149756.71</td><td>1</td><td>1</td><td>5</td><td>DIAMOND</td><td>484</td></tr>\n",
              "</tbody>\n",
              "</table>\n"
            ],
            "text/markdown": "\nA data.frame: 6 × 18\n\n| <!--/--> | RowNumber &lt;int&gt; | CustomerId &lt;int&gt; | Surname &lt;chr&gt; | CreditScore &lt;int&gt; | Geography &lt;chr&gt; | Gender &lt;chr&gt; | Age &lt;int&gt; | Tenure &lt;int&gt; | Balance &lt;dbl&gt; | NumOfProducts &lt;int&gt; | HasCrCard &lt;int&gt; | IsActiveMember &lt;int&gt; | EstimatedSalary &lt;dbl&gt; | Exited &lt;int&gt; | Complain &lt;int&gt; | Satisfaction.Score &lt;int&gt; | Card.Type &lt;chr&gt; | Point.Earned &lt;int&gt; |\n|---|---|---|---|---|---|---|---|---|---|---|---|---|---|---|---|---|---|---|\n| 1 | 1 | 15634602 | Hargrave | 619 | France | Female | 42 | 2 |      0.00 | 1 | 1 | 1 | 101348.88 | 1 | 1 | 2 | DIAMOND | 464 |\n| 2 | 2 | 15647311 | Hill     | 608 | Spain  | Female | 41 | 1 |  83807.86 | 1 | 0 | 1 | 112542.58 | 0 | 1 | 3 | DIAMOND | 456 |\n| 3 | 3 | 15619304 | Onio     | 502 | France | Female | 42 | 8 | 159660.80 | 3 | 1 | 0 | 113931.57 | 1 | 1 | 3 | DIAMOND | 377 |\n| 4 | 4 | 15701354 | Boni     | 699 | France | Female | 39 | 1 |      0.00 | 2 | 0 | 0 |  93826.63 | 0 | 0 | 5 | GOLD    | 350 |\n| 5 | 5 | 15737888 | Mitchell | 850 | Spain  | Female | 43 | 2 | 125510.82 | 1 | 1 | 1 |  79084.10 | 0 | 0 | 5 | GOLD    | 425 |\n| 6 | 6 | 15574012 | Chu      | 645 | Spain  | Male   | 44 | 8 | 113755.78 | 2 | 1 | 0 | 149756.71 | 1 | 1 | 5 | DIAMOND | 484 |\n\n",
            "text/latex": "A data.frame: 6 × 18\n\\begin{tabular}{r|llllllllllllllllll}\n  & RowNumber & CustomerId & Surname & CreditScore & Geography & Gender & Age & Tenure & Balance & NumOfProducts & HasCrCard & IsActiveMember & EstimatedSalary & Exited & Complain & Satisfaction.Score & Card.Type & Point.Earned\\\\\n  & <int> & <int> & <chr> & <int> & <chr> & <chr> & <int> & <int> & <dbl> & <int> & <int> & <int> & <dbl> & <int> & <int> & <int> & <chr> & <int>\\\\\n\\hline\n\t1 & 1 & 15634602 & Hargrave & 619 & France & Female & 42 & 2 &      0.00 & 1 & 1 & 1 & 101348.88 & 1 & 1 & 2 & DIAMOND & 464\\\\\n\t2 & 2 & 15647311 & Hill     & 608 & Spain  & Female & 41 & 1 &  83807.86 & 1 & 0 & 1 & 112542.58 & 0 & 1 & 3 & DIAMOND & 456\\\\\n\t3 & 3 & 15619304 & Onio     & 502 & France & Female & 42 & 8 & 159660.80 & 3 & 1 & 0 & 113931.57 & 1 & 1 & 3 & DIAMOND & 377\\\\\n\t4 & 4 & 15701354 & Boni     & 699 & France & Female & 39 & 1 &      0.00 & 2 & 0 & 0 &  93826.63 & 0 & 0 & 5 & GOLD    & 350\\\\\n\t5 & 5 & 15737888 & Mitchell & 850 & Spain  & Female & 43 & 2 & 125510.82 & 1 & 1 & 1 &  79084.10 & 0 & 0 & 5 & GOLD    & 425\\\\\n\t6 & 6 & 15574012 & Chu      & 645 & Spain  & Male   & 44 & 8 & 113755.78 & 2 & 1 & 0 & 149756.71 & 1 & 1 & 5 & DIAMOND & 484\\\\\n\\end{tabular}\n",
            "text/plain": [
              "  RowNumber CustomerId Surname  CreditScore Geography Gender Age Tenure\n",
              "1 1         15634602   Hargrave 619         France    Female 42  2     \n",
              "2 2         15647311   Hill     608         Spain     Female 41  1     \n",
              "3 3         15619304   Onio     502         France    Female 42  8     \n",
              "4 4         15701354   Boni     699         France    Female 39  1     \n",
              "5 5         15737888   Mitchell 850         Spain     Female 43  2     \n",
              "6 6         15574012   Chu      645         Spain     Male   44  8     \n",
              "  Balance   NumOfProducts HasCrCard IsActiveMember EstimatedSalary Exited\n",
              "1      0.00 1             1         1              101348.88       1     \n",
              "2  83807.86 1             0         1              112542.58       0     \n",
              "3 159660.80 3             1         0              113931.57       1     \n",
              "4      0.00 2             0         0               93826.63       0     \n",
              "5 125510.82 1             1         1               79084.10       0     \n",
              "6 113755.78 2             1         0              149756.71       1     \n",
              "  Complain Satisfaction.Score Card.Type Point.Earned\n",
              "1 1        2                  DIAMOND   464         \n",
              "2 1        3                  DIAMOND   456         \n",
              "3 1        3                  DIAMOND   377         \n",
              "4 0        5                  GOLD      350         \n",
              "5 0        5                  GOLD      425         \n",
              "6 1        5                  DIAMOND   484         "
            ]
          },
          "metadata": {}
        }
      ],
      "source": [
        "df <- read.csv(\"Customer-Churn-Records.csv\")\n",
        "head(df)"
      ]
    },
    {
      "cell_type": "markdown",
      "source": [
        "Podemos calcular distintas Estadísticas sobre distintos grupos. Por ejemplo, calcular el promedio de edad según el Género."
      ],
      "metadata": {
        "id": "vYMlOmeU-RUo"
      }
    },
    {
      "cell_type": "code",
      "source": [
        "mean_age_male <- mean( df[df$Gender == \"Male\", \"Age\"] )\n",
        "mean_age_male"
      ],
      "metadata": {
        "colab": {
          "base_uri": "https://localhost:8080/",
          "height": 34
        },
        "id": "skp2Jn8l-a_g",
        "outputId": "bf04586f-7243-497e-e59d-346456ebf2e2"
      },
      "execution_count": 9,
      "outputs": [
        {
          "output_type": "display_data",
          "data": {
            "text/html": [
              "38.6582371266264"
            ],
            "text/markdown": "38.6582371266264",
            "text/latex": "38.6582371266264",
            "text/plain": [
              "[1] 38.65824"
            ]
          },
          "metadata": {}
        }
      ]
    },
    {
      "cell_type": "code",
      "source": [
        "mean_age_female <- mean( df[df$Gender == \"Female\", \"Age\"] )\n",
        "mean_age_female"
      ],
      "metadata": {
        "id": "FB9j4tD_-0JC",
        "colab": {
          "base_uri": "https://localhost:8080/",
          "height": 34
        },
        "outputId": "cdbd4f14-9531-4664-d85a-a0c358c27f36"
      },
      "execution_count": 10,
      "outputs": [
        {
          "output_type": "display_data",
          "data": {
            "text/html": [
              "39.2383887299142"
            ],
            "text/markdown": "39.2383887299142",
            "text/latex": "39.2383887299142",
            "text/plain": [
              "[1] 39.23839"
            ]
          },
          "metadata": {}
        }
      ]
    },
    {
      "cell_type": "markdown",
      "source": [
        "O incluso, podemos hacer ese cálculo de manera directa"
      ],
      "metadata": {
        "id": "k7eeZLmM-_BL"
      }
    },
    {
      "cell_type": "code",
      "source": [
        "tapply(df$Age, df$Gender, mean)"
      ],
      "metadata": {
        "id": "G9jJXWQV95ks",
        "colab": {
          "base_uri": "https://localhost:8080/",
          "height": 34
        },
        "outputId": "c204e798-8678-42ac-dd3d-4dc0faf185f3"
      },
      "execution_count": 11,
      "outputs": [
        {
          "output_type": "display_data",
          "data": {
            "text/html": [
              "<style>\n",
              ".dl-inline {width: auto; margin:0; padding: 0}\n",
              ".dl-inline>dt, .dl-inline>dd {float: none; width: auto; display: inline-block}\n",
              ".dl-inline>dt::after {content: \":\\0020\"; padding-right: .5ex}\n",
              ".dl-inline>dt:not(:first-of-type) {padding-left: .5ex}\n",
              "</style><dl class=dl-inline><dt>Female</dt><dd>39.2383887299142</dd><dt>Male</dt><dd>38.6582371266264</dd></dl>\n"
            ],
            "text/markdown": "Female\n:   39.2383887299142Male\n:   38.6582371266264\n\n",
            "text/latex": "\\begin{description*}\n\\item[Female] 39.2383887299142\n\\item[Male] 38.6582371266264\n\\end{description*}\n",
            "text/plain": [
              "  Female     Male \n",
              "39.23839 38.65824 "
            ]
          },
          "metadata": {}
        }
      ]
    },
    {
      "cell_type": "markdown",
      "source": [
        "### Pruebas de Normalidad\n",
        "\n",
        "¿Recuerdas la Variable _Balance_ y cómo sospechábamos que se distribuía Normal?\n",
        "\n",
        "¿Y si hacemos una prueba Estadística?"
      ],
      "metadata": {
        "id": "5IKpEEmC_Vz0"
      }
    },
    {
      "cell_type": "code",
      "source": [
        "shapiro.test(df$Balance)"
      ],
      "metadata": {
        "id": "liFeLEGvAATV",
        "colab": {
          "base_uri": "https://localhost:8080/",
          "height": 263
        },
        "outputId": "acf963d7-5cb4-42aa-abcd-11dac3f8b908"
      },
      "execution_count": 13,
      "outputs": [
        {
          "output_type": "error",
          "ename": "ERROR",
          "evalue": "Error in shapiro.test(df$Balance): sample size must be between 3 and 5000\n",
          "traceback": [
            "Error in shapiro.test(df$Balance): sample size must be between 3 and 5000\nTraceback:\n",
            "1. stop(\"sample size must be between 3 and 5000\")",
            "2. .handleSimpleError(function (cnd) \n . {\n .     watcher$capture_plot_and_output()\n .     cnd <- sanitize_call(cnd)\n .     watcher$push(cnd)\n .     switch(on_error, continue = invokeRestart(\"eval_continue\"), \n .         stop = invokeRestart(\"eval_stop\"), error = invokeRestart(\"eval_error\", \n .             cnd))\n . }, \"sample size must be between 3 and 5000\", base::quote(shapiro.test(df$Balance)))"
          ]
        }
      ]
    },
    {
      "cell_type": "markdown",
      "source": [
        "Parece ser que necesitamos trabajar con menos datos. Saquemos una muestra..."
      ],
      "metadata": {
        "id": "upQY9bt_AOsM"
      }
    },
    {
      "cell_type": "code",
      "source": [
        "sample_balance <- df[sample(1:nrow(df), size=50, replace=FALSE), \"Balance\"]"
      ],
      "metadata": {
        "id": "mUGhsSq7AMXv"
      },
      "execution_count": 14,
      "outputs": []
    },
    {
      "cell_type": "markdown",
      "source": [
        "Ahora sí, apliquemos la Prueba de Normalidad de Shapiro-Wilk."
      ],
      "metadata": {
        "id": "MuS3LtbpAg23"
      }
    },
    {
      "cell_type": "code",
      "source": [
        "shapiro.test(sample_balance)"
      ],
      "metadata": {
        "id": "l_a-bbtlAhDD",
        "colab": {
          "base_uri": "https://localhost:8080/",
          "height": 104
        },
        "outputId": "457d1485-c3c1-46ac-df2a-f6c542ac701f"
      },
      "execution_count": 15,
      "outputs": [
        {
          "output_type": "display_data",
          "data": {
            "text/plain": [
              "\n",
              "\tShapiro-Wilk normality test\n",
              "\n",
              "data:  sample_balance\n",
              "W = 0.82831, p-value = 4.205e-06\n"
            ]
          },
          "metadata": {}
        }
      ]
    },
    {
      "cell_type": "markdown",
      "source": [
        "El valor p es muy, muy pequeño. Es menor que cualquier alfa \"típico\" (0.1, 0.05 o 0.01). Por lo tanto, rechazamos la Hipótesis Nula $H_0$ y, por lo tanto, no podemos asegurar que nuestra muestra de los datos de _Balance_ provengan de una variable con Distribución Normal.\n",
        "\n",
        "Pero, ¿recuerdas qué pasaba con esa variable?\n",
        "\n",
        "¿Qué tal que aplicamos un filtro?"
      ],
      "metadata": {
        "id": "m_ILtXa-Bki4"
      }
    },
    {
      "cell_type": "code",
      "source": [
        "hist(df$Balance)"
      ],
      "metadata": {
        "id": "8XlwFfHa-IT3",
        "colab": {
          "base_uri": "https://localhost:8080/",
          "height": 437
        },
        "outputId": "cbee10fa-d5de-4608-f5e2-e3ce5a6a47a1"
      },
      "execution_count": 16,
      "outputs": [
        {
          "output_type": "display_data",
          "data": {
            "text/plain": [
              "Plot with title “Histogram of df$Balance”"
            ],
            "image/png": "[encoded data removed]"
          },
          "metadata": {
            "image/png": {
              "width": 420,
              "height": 420
            }
          }
        }
      ]
    },
    {
      "cell_type": "code",
      "source": [
        "balance_positivo <-  df[df$Balance > 0, ]\n",
        "\n",
        "sample_balance <- df[sample(1:nrow(balance_positivo), size=5, replace=FALSE), \"Balance\"]\n",
        "\n",
        "shapiro.test(sample_balance)"
      ],
      "metadata": {
        "id": "N607rmYJCOkc",
        "colab": {
          "base_uri": "https://localhost:8080/",
          "height": 104
        },
        "outputId": "287ec758-d2b1-4878-e7d4-536114369d50"
      },
      "execution_count": 17,
      "outputs": [
        {
          "output_type": "display_data",
          "data": {
            "text/plain": [
              "\n",
              "\tShapiro-Wilk normality test\n",
              "\n",
              "data:  sample_balance\n",
              "W = 0.95535, p-value = 0.7753\n"
            ]
          },
          "metadata": {}
        }
      ]
    },
    {
      "cell_type": "markdown",
      "source": [
        "Para una muestra de 5, y dependiendo el Alfa que usemos, podríamos no descartar la posibilidad de que los datos provengan de una Variable con Distribución Normal."
      ],
      "metadata": {
        "id": "yD2fBlCiC10Z"
      }
    },
    {
      "cell_type": "markdown",
      "source": [
        "### Comparar Estadísticas entre dos Grupos\n",
        "\n",
        "Podemos usar un BoxPlot para comparar medias, varianzas o proporciones entre distintos grupos."
      ],
      "metadata": {
        "id": "Hv0bhWAeDbwU"
      }
    },
    {
      "cell_type": "code",
      "source": [
        "library(ggplot2)"
      ],
      "metadata": {
        "id": "9hko-24qCtIA"
      },
      "execution_count": 18,
      "outputs": []
    },
    {
      "cell_type": "code",
      "source": [
        "ggplot(df, aes(Gender, EstimatedSalary, fill=Gender)) + geom_boxplot()"
      ],
      "metadata": {
        "id": "y3OuKjIwDxUs",
        "colab": {
          "base_uri": "https://localhost:8080/",
          "height": 437
        },
        "outputId": "a988e744-a2e9-41b6-df6f-d12d8a174fb6"
      },
      "execution_count": 19,
      "outputs": [
        {
          "output_type": "display_data",
          "data": {
            "text/plain": [
              "plot without title"
            ],
            "image/png": "[encoded data removed]"
          },
          "metadata": {
            "image/png": {
              "width": 420,
              "height": 420
            }
          }
        }
      ]
    },
    {
      "cell_type": "code",
      "source": [
        "df[\"Tarjeta\"] <- df$HasCrCard == 1\n",
        "ggplot(df, aes(HasCrCard, CreditScore, fill=Tarjeta)) + geom_boxplot()"
      ],
      "metadata": {
        "id": "yy3YVrKLD5nR",
        "colab": {
          "base_uri": "https://localhost:8080/",
          "height": 437
        },
        "outputId": "9ce91692-af79-4dbb-ca45-ea2dacc83402"
      },
      "execution_count": 20,
      "outputs": [
        {
          "output_type": "display_data",
          "data": {
            "text/plain": [
              "plot without title"
            ],
            "image/png": "[encoded data removed]"
          },
          "metadata": {
            "image/png": {
              "width": 420,
              "height": 420
            }
          }
        }
      ]
    },
    {
      "cell_type": "markdown",
      "source": [
        "Pero, lo más \"Formal\" sería ocupar una Prueba Estadística para medir la diferencia de medias, varianzas o proporciones entre distintos grupos.\n",
        "\n",
        "Primero, agreguemos una Prueba de Igualdad de Varianzas, para ver si ambos grupos tienen varianza similar.\n",
        "\n"
      ],
      "metadata": {
        "id": "GdS296C6Fe3B"
      }
    },
    {
      "cell_type": "code",
      "source": [
        "var.test(Age~Gender, data= df)"
      ],
      "metadata": {
        "id": "i43RRqYAEwic",
        "colab": {
          "base_uri": "https://localhost:8080/",
          "height": 208
        },
        "outputId": "833dae78-7ebe-44fe-bd89-ee5e5b70aa80"
      },
      "execution_count": 21,
      "outputs": [
        {
          "output_type": "display_data",
          "data": {
            "text/plain": [
              "\n",
              "\tF test to compare two variances\n",
              "\n",
              "data:  Age by Gender\n",
              "F = 1.0372, num df = 4542, denom df = 5456, p-value = 0.1975\n",
              "alternative hypothesis: true ratio of variances is not equal to 1\n",
              "95 percent confidence interval:\n",
              " 0.9811321 1.0967096\n",
              "sample estimates:\n",
              "ratio of variances \n",
              "          1.037238 \n"
            ]
          },
          "metadata": {}
        }
      ]
    },
    {
      "cell_type": "markdown",
      "source": [
        "Como el valor p es mayor al alfa \"típico\" de 0.05, no rechazamos la Hipótesis Nula, y podemos asumir que las varianzas pueden ser iguales.\n",
        "\n",
        "Ahora sí, apliquemos una Prueba T para la Igualdad de Medias. Como no rechazamos la Hipótesis Nula en el ejercicio anterior, especificamos que ambas varianzas son similares."
      ],
      "metadata": {
        "id": "HrNhELycGqJ5"
      }
    },
    {
      "cell_type": "code",
      "source": [
        "t.test(Age~Gender, data= df, var.equal = T)"
      ],
      "metadata": {
        "id": "rUXtMY5VF8-K",
        "colab": {
          "base_uri": "https://localhost:8080/",
          "height": 208
        },
        "outputId": "3d7f5ba6-c54e-41a0-8494-f27626a50a8f"
      },
      "execution_count": 22,
      "outputs": [
        {
          "output_type": "display_data",
          "data": {
            "text/plain": [
              "\n",
              "\tTwo Sample t-test\n",
              "\n",
              "data:  Age by Gender\n",
              "t = 2.7552, df = 9998, p-value = 0.005877\n",
              "alternative hypothesis: true difference in means between group Female and group Male is not equal to 0\n",
              "95 percent confidence interval:\n",
              " 0.1673951 0.9929081\n",
              "sample estimates:\n",
              "mean in group Female   mean in group Male \n",
              "            39.23839             38.65824 \n"
            ]
          },
          "metadata": {}
        }
      ]
    },
    {
      "cell_type": "markdown",
      "source": [
        "Como el valor p es menor a un alfa de 0.05, rechazo $H_0$ y acepto $H_a$; por lo tanto, el promedio de edad en ambos grupos (Female y Male) es distinto."
      ],
      "metadata": {
        "id": "fA7ic9kpHehn"
      }
    },
    {
      "cell_type": "markdown",
      "source": [
        "### Pruebas Chi Cuadrada para diferencia de Frecuencias.\n",
        "\n",
        "Nota como son similares estas dos formas de utilizar el código para hacer Tablas de Frecuencia:"
      ],
      "metadata": {
        "id": "7SIjJEP3o6HW"
      }
    },
    {
      "cell_type": "code",
      "source": [
        "with(df, table(Gender, Tenure))"
      ],
      "metadata": {
        "id": "2JtIqM74HDGD",
        "colab": {
          "base_uri": "https://localhost:8080/",
          "height": 86
        },
        "outputId": "a3d15ba9-1b30-4567-f4f2-f84696910e76"
      },
      "execution_count": 25,
      "outputs": [
        {
          "output_type": "display_data",
          "data": {
            "text/plain": [
              "        Tenure\n",
              "Gender     0   1   2   3   4   5   6   7   8   9  10\n",
              "  Female 204 478 480 469 442 448 458 464 433 422 245\n",
              "  Male   209 557 568 540 547 564 509 564 592 562 245"
            ]
          },
          "metadata": {}
        }
      ]
    },
    {
      "cell_type": "code",
      "source": [
        "table(df$Gender, df$Tenure)"
      ],
      "metadata": {
        "id": "eG005uUvpQEr",
        "colab": {
          "base_uri": "https://localhost:8080/",
          "height": 86
        },
        "outputId": "db13a1d0-6bc2-4b0c-c9b6-b6395e701e7e"
      },
      "execution_count": 26,
      "outputs": [
        {
          "output_type": "display_data",
          "data": {
            "text/plain": [
              "        \n",
              "           0   1   2   3   4   5   6   7   8   9  10\n",
              "  Female 204 478 480 469 442 448 458 464 433 422 245\n",
              "  Male   209 557 568 540 547 564 509 564 592 562 245"
            ]
          },
          "metadata": {}
        }
      ]
    },
    {
      "cell_type": "code",
      "source": [
        "chisq.test(table(df$Gender, df$Tenure))"
      ],
      "metadata": {
        "colab": {
          "base_uri": "https://localhost:8080/",
          "height": 104
        },
        "id": "IlTj1QqqrH09",
        "outputId": "91bde923-d291-4327-b2a5-feb9fcd356ed"
      },
      "execution_count": 27,
      "outputs": [
        {
          "output_type": "display_data",
          "data": {
            "text/plain": [
              "\n",
              "\tPearson's Chi-squared test\n",
              "\n",
              "data:  table(df$Gender, df$Tenure)\n",
              "X-squared = 16.519, df = 10, p-value = 0.08571\n"
            ]
          },
          "metadata": {}
        }
      ]
    },
    {
      "cell_type": "markdown",
      "source": [
        "Puesto que el p-value es mayor a un alfa de 0.05, no tenemos argumentos para rechazar nuestra $H_0$. Por lo tanto, concluimos que para Female, como para Male, las diferencias entre las frecuencias de los distintos valores de Tenure **no** son significativas. Es decir, que vendrían de la misma distribución."
      ],
      "metadata": {
        "id": "DWcMKIR1rmTn"
      }
    },
    {
      "cell_type": "markdown",
      "source": [
        "### Prueba Fisher cuando no tenemos suficiente información"
      ],
      "metadata": {
        "id": "TzyCGHLJuYgR"
      }
    },
    {
      "cell_type": "code",
      "source": [
        "df[\"scoreGreater400\"] <- df[\"CreditScore\"] > 400\n",
        "\n",
        "table(df$HasCrCard, df$scoreGreater400)"
      ],
      "metadata": {
        "colab": {
          "base_uri": "https://localhost:8080/",
          "height": 86
        },
        "id": "YdsHnsIhrRem",
        "outputId": "1a59b163-44ed-40e6-f250-999ffcaf1fe0"
      },
      "execution_count": 40,
      "outputs": [
        {
          "output_type": "display_data",
          "data": {
            "text/plain": [
              "   \n",
              "    FALSE TRUE\n",
              "  0     3 2942\n",
              "  1    16 7039"
            ]
          },
          "metadata": {}
        }
      ]
    },
    {
      "cell_type": "code",
      "source": [
        "fisher.test(as.matrix(table(df$HasCrCard, df$scoreGreater400)))"
      ],
      "metadata": {
        "colab": {
          "base_uri": "https://localhost:8080/",
          "height": 208
        },
        "id": "BZqASfEtulhD",
        "outputId": "9115f913-ebd2-4ee3-8d3f-a837438a6d2f"
      },
      "execution_count": 41,
      "outputs": [
        {
          "output_type": "display_data",
          "data": {
            "text/plain": [
              "\n",
              "\tFisher's Exact Test for Count Data\n",
              "\n",
              "data:  as.matrix(table(df$HasCrCard, df$scoreGreater400))\n",
              "p-value = 0.3119\n",
              "alternative hypothesis: true odds ratio is not equal to 1\n",
              "95 percent confidence interval:\n",
              " 0.08370721 1.56907041\n",
              "sample estimates:\n",
              "odds ratio \n",
              " 0.4486403 \n"
            ]
          },
          "metadata": {}
        }
      ]
    },
    {
      "cell_type": "markdown",
      "source": [
        "Puesto que el p-value es mayor a un alfa de 0.05, no tenemos argumentos para rechazar nuestra $H_0$. Por lo tanto, concluimos que, independientemente de si tiene Tarjeta de Crédito o no, las diferencias entre las frecuencias de los clientes con Score menor a 400 **no** son significativas. Es decir, que vendrían de la misma distribución."
      ],
      "metadata": {
        "id": "_2IpD4usw9wR"
      }
    },
    {
      "cell_type": "markdown",
      "source": [
        "### Correlación y Covarianza entre dos variables"
      ],
      "metadata": {
        "id": "HNzefc9Oxbpz"
      }
    },
    {
      "cell_type": "code",
      "source": [
        "# Correlación de Pearson\n",
        "cor(df$Balance, df$EstimatedSalary)"
      ],
      "metadata": {
        "colab": {
          "base_uri": "https://localhost:8080/",
          "height": 34
        },
        "id": "QpW7gahzutHD",
        "outputId": "66048283-2537-4313-ff1b-344b60bc5a6b"
      },
      "execution_count": 42,
      "outputs": [
        {
          "output_type": "display_data",
          "data": {
            "text/html": [
              "0.0127974963405557"
            ],
            "text/markdown": "0.0127974963405557",
            "text/latex": "0.0127974963405557",
            "text/plain": [
              "[1] 0.0127975"
            ]
          },
          "metadata": {}
        }
      ]
    },
    {
      "cell_type": "code",
      "source": [
        "# Correlación de Spearman\n",
        "cor(df$Balance, df$EstimatedSalary, method=\"spearman\")"
      ],
      "metadata": {
        "colab": {
          "base_uri": "https://localhost:8080/",
          "height": 34
        },
        "id": "FYYw48v1xsEW",
        "outputId": "7e210af7-6d72-43be-c890-f631ca8d9337"
      },
      "execution_count": 44,
      "outputs": [
        {
          "output_type": "display_data",
          "data": {
            "text/html": [
              "0.0117780034817701"
            ],
            "text/markdown": "0.0117780034817701",
            "text/latex": "0.0117780034817701",
            "text/plain": [
              "[1] 0.011778"
            ]
          },
          "metadata": {}
        }
      ]
    },
    {
      "cell_type": "code",
      "source": [
        "cov(df$Balance, df$EstimatedSalary)"
      ],
      "metadata": {
        "colab": {
          "base_uri": "https://localhost:8080/",
          "height": 34
        },
        "id": "_cUBcwauxk0g",
        "outputId": "ea5c504d-9336-480d-a9d8-2ce63d0e7ae3"
      },
      "execution_count": 43,
      "outputs": [
        {
          "output_type": "display_data",
          "data": {
            "text/html": [
              "45923886.3080602"
            ],
            "text/markdown": "45923886.3080602",
            "text/latex": "45923886.3080602",
            "text/plain": [
              "[1] 45923886"
            ]
          },
          "metadata": {}
        }
      ]
    },
    {
      "cell_type": "markdown",
      "source": [
        "### Anova"
      ],
      "metadata": {
        "id": "ElIMO8sjx8JT"
      }
    },
    {
      "cell_type": "code",
      "source": [
        "anova <- aov(Balance~Geography, data=df)\n",
        "\n",
        "summary(anova)\n"
      ],
      "metadata": {
        "colab": {
          "base_uri": "https://localhost:8080/",
          "height": 104
        },
        "id": "4UiPzaaIxmeh",
        "outputId": "984118af-4de6-4003-deac-6920bb20def8"
      },
      "execution_count": 45,
      "outputs": [
        {
          "output_type": "display_data",
          "data": {
            "text/plain": [
              "              Df    Sum Sq   Mean Sq F value Pr(>F)    \n",
              "Geography      2 6.264e+12 3.132e+12   958.4 <2e-16 ***\n",
              "Residuals   9997 3.267e+13 3.268e+09                   \n",
              "---\n",
              "Signif. codes:  0 ‘***’ 0.001 ‘**’ 0.01 ‘*’ 0.05 ‘.’ 0.1 ‘ ’ 1"
            ]
          },
          "metadata": {}
        }
      ]
    },
    {
      "cell_type": "markdown",
      "source": [
        "Como el valor p es muy pequeño, rechazamos $H_0$ y aceptamos la Hipótesis Alternativa.\n",
        "\n",
        "¿Cuál sería la interpretación?\n",
        "\n",
        "El Balance promedio para al menos uno de los grupos es distinto al de los demás.\n",
        "\n",
        "Y eso queda mucho más claro si graficamos:"
      ],
      "metadata": {
        "id": "BnpCw6awzUzF"
      }
    },
    {
      "cell_type": "code",
      "source": [
        "ggplot(df, aes(Geography, Balance, fill=Geography)) + geom_boxplot()"
      ],
      "metadata": {
        "colab": {
          "base_uri": "https://localhost:8080/",
          "height": 437
        },
        "id": "Tx5k36gUy5ok",
        "outputId": "242aefaa-ed32-431b-fd75-5b821e774c58"
      },
      "execution_count": 46,
      "outputs": [
        {
          "output_type": "display_data",
          "data": {
            "text/plain": [
              "plot without title"
            ],
            "image/png": "[encoded data removed]"
          },
          "metadata": {
            "image/png": {
              "width": 420,
              "height": 420
            }
          }
        }
      ]
    },
    {
      "cell_type": "code",
      "source": [],
      "metadata": {
        "id": "vuuhMlAZzSgw"
      },
      "execution_count": null,
      "outputs": []
    }
  ]
}