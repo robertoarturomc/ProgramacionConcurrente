{
  "nbformat": 4,
  "nbformat_minor": 0,
  "metadata": {
    "colab": {
      "provenance": [],
      "authorship_tag": "ABX9TyMJ9j5Vm6NbJ14A5IJHBmHF",
      "include_colab_link": true
    },
    "kernelspec": {
      "name": "python3",
      "display_name": "Python 3"
    },
    "language_info": {
      "name": "python"
    }
  },
  "cells": [
    {
      "cell_type": "markdown",
      "metadata": {
        "id": "view-in-github",
        "colab_type": "text"
      },
      "source": [
        "<a href=\"https://colab.research.google.com/github/robertoarturomc/ProgramacionConcurrente/blob/main/1_Repaso_de_Conceptos.ipynb\" target=\"_parent\"><img src=\"https://colab.research.google.com/assets/colab-badge.svg\" alt=\"Open In Colab\"/></a>"
      ]
    },
    {
      "cell_type": "code",
      "execution_count": null,
      "metadata": {
        "id": "FXX_a78LUtf-"
      },
      "outputs": [],
      "source": []
    },
    {
      "cell_type": "markdown",
      "source": [
        "## Programación Concurrente Otoño 2024\n",
        "# 1. Repaso de Conceptos\n",
        "\n",
        "### Material Básico:\n",
        "\n",
        "https://github.com/robertoarturomc/ProgramacionInformacion/\n",
        "\n",
        "### Programación Orientada a Objetos:"
      ],
      "metadata": {
        "id": "4-mMtkZlUzpm"
      }
    },
    {
      "cell_type": "code",
      "source": [
        "class Estudiante():\n",
        "    def __init__(self , nombre , nota):\n",
        "        self.nombre=nombre\n",
        "        self.nota=nota\n",
        "\n",
        "    def imprimir(self):\n",
        "        print(f»Nombre:{self.nombre} \\nNota: {self.nota}»)\n",
        "\n",
        "    def resultados(self):\n",
        "        if self.nota >= 7.5:\n",
        "            print(\"¡Has APROBADO!\")\n",
        "        else:\n",
        "            print(\"¡Has REPROBADO!\")\n"
      ],
      "metadata": {
        "id": "6n581DEIVVNK"
      },
      "execution_count": null,
      "outputs": []
    },
    {
      "cell_type": "code",
      "source": [
        "estudiante1=Estudiante(«Pedro» , 5)\n",
        "#estudiante1.imprimir()\n",
        "#estudiante1.resultados()\n"
      ],
      "metadata": {
        "id": "fNEPK872VYXZ"
      },
      "execution_count": null,
      "outputs": []
    },
    {
      "cell_type": "code",
      "source": [
        "estudiante2=Estudiante(«Elizabeth» , 7.5)\n",
        "#estudiante2.imprimir()\n",
        "#estudiante2.resultados()"
      ],
      "metadata": {
        "id": "j461yYo6VZv4"
      },
      "execution_count": null,
      "outputs": []
    },
    {
      "cell_type": "code",
      "source": [],
      "metadata": {
        "id": "2NJJc9xSVxDY"
      },
      "execution_count": null,
      "outputs": []
    }
  ]
}