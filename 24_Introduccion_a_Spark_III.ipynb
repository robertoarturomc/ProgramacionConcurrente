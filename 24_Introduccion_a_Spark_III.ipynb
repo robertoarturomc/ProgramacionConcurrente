{
  "cells": [
    {
      "cell_type": "markdown",
      "metadata": {
        "id": "view-in-github",
        "colab_type": "text"
      },
      "source": [
        "<a href=\"https://colab.research.google.com/github/robertoarturomc/ProgramacionConcurrente/blob/main/24_Introduccion_a_Spark_III.ipynb\" target=\"_parent\"><img src=\"https://colab.research.google.com/assets/colab-badge.svg\" alt=\"Open In Colab\"/></a>"
      ]
    },
    {
      "cell_type": "markdown",
      "metadata": {
        "id": "8UQAJS17EEaI"
      },
      "source": [
        "### Programación Concurrente\n",
        "## 24. Introducción a Spark III\n",
        "\n"
      ]
    },
    {
      "cell_type": "code",
      "source": [
        "import pandas as pd\n",
        "from pyspark.sql import SparkSession\n",
        "from pyspark.sql.functions import col, lit\n",
        "\n"
      ],
      "metadata": {
        "id": "0dtuuRww-ekh"
      },
      "execution_count": 6,
      "outputs": []
    },
    {
      "cell_type": "code",
      "source": [
        "spark = SparkSession.builder.master(\"local[*]\").getOrCreate()\n",
        "spark"
      ],
      "metadata": {
        "colab": {
          "base_uri": "https://localhost:8080/",
          "height": 219
        },
        "id": "X2lSnbMu90R9",
        "outputId": "cdac7a2e-ed24-4317-a660-df63ce42b45a"
      },
      "execution_count": 2,
      "outputs": [
        {
          "output_type": "execute_result",
          "data": {
            "text/plain": [
              "<pyspark.sql.session.SparkSession at 0x788c35f45030>"
            ],
            "text/html": [
              "\n",
              "            <div>\n",
              "                <p><b>SparkSession - in-memory</b></p>\n",
              "                \n",
              "        <div>\n",
              "            <p><b>SparkContext</b></p>\n",
              "\n",
              "            <p><a href=\"http://24a4a3c4ae19:4040\">Spark UI</a></p>\n",
              "\n",
              "            <dl>\n",
              "              <dt>Version</dt>\n",
              "                <dd><code>v3.5.3</code></dd>\n",
              "              <dt>Master</dt>\n",
              "                <dd><code>local[*]</code></dd>\n",
              "              <dt>AppName</dt>\n",
              "                <dd><code>pyspark-shell</code></dd>\n",
              "            </dl>\n",
              "        </div>\n",
              "        \n",
              "            </div>\n",
              "        "
            ]
          },
          "metadata": {},
          "execution_count": 2
        }
      ]
    },
    {
      "cell_type": "markdown",
      "source": [
        "Vamos a profundizar en algunos conceptos de PySpark. Para ello, continuaremos trabajando con la misma base de datos."
      ],
      "metadata": {
        "id": "BBU77s9Q8lqb"
      }
    },
    {
      "cell_type": "code",
      "source": [
        "df = spark.read.csv('covidmex.csv', header=True)\n",
        "df.show(5)"
      ],
      "metadata": {
        "colab": {
          "base_uri": "https://localhost:8080/"
        },
        "id": "rOOHUoMY95LL",
        "outputId": "aed5b81a-e67c-4d9f-fb5c-e9bed6a02f1e"
      },
      "execution_count": 4,
      "outputs": [
        {
          "output_type": "stream",
          "name": "stdout",
          "text": [
            "+-----------+-----------+-------------+-------------+--------------+------+-----+------------------+-------------------+------------------+--------------------+---------+------------------+\n",
            "|ID_REGISTRO|ENTIDAD_RES|MUNICIPIO_RES|FECHA_INGRESO|FECHA_SINTOMAS|covidt|delta|               lat|               long|               alt|                 qry|dayofyear|       lengthofday|\n",
            "+-----------+-----------+-------------+-------------+--------------+------+-----+------------------+-------------------+------------------+--------------------+---------+------------------+\n",
            "|     z526b3|          9|           12|   2020-12-21|    2020-12-18|     1|    3| 19.20155345588235| -99.20180252450989|3008.9460784313724|Cve_Ent==9 & Cve_...|      356|11.768371962176587|\n",
            "|     z3d1e2|          9|            5|   2020-04-22|    2020-04-20|     1|    2|         19.482945|         -99.113471|            2229.0|Cve_Ent==9 & Cve_...|      113|13.441805501598786|\n",
            "|     z21f6f|          7|            9|   2020-04-27|    2020-04-24|     1|    3| 16.21599257359306| -93.93758461688306| 83.17316017316017|Cve_Ent==7 & Cve_...|      118|13.399116765412083|\n",
            "|     zz9040|         19|           45|   2020-09-06|    2020-09-03|     1|    3| 26.06980561012655|-100.27776220506335| 486.4253164556962|Cve_Ent==19 & Cve...|      250|13.288478608721755|\n",
            "|     z21c58|         19|           26|   2020-07-10|    2020-07-06|     1|    4|25.679631916666665|-100.16954308333334|            551.75|Cve_Ent==19 & Cve...|      192|14.507914985048014|\n",
            "+-----------+-----------+-------------+-------------+--------------+------+-----+------------------+-------------------+------------------+--------------------+---------+------------------+\n",
            "only showing top 5 rows\n",
            "\n"
          ]
        }
      ]
    },
    {
      "cell_type": "markdown",
      "source": [
        "¿Cómo extraigo una parte de un String?\n",
        "\n"
      ],
      "metadata": {
        "id": "8c8Z4LEg80Rw"
      }
    },
    {
      "cell_type": "code",
      "source": [
        "from pyspark.sql.functions import substring, lower, upper"
      ],
      "metadata": {
        "id": "daqmqx89wOzb"
      },
      "execution_count": 19,
      "outputs": []
    },
    {
      "cell_type": "code",
      "source": [
        "df.withColumn('Subst', substring(col('ID_REGISTRO'), 1, 1)).show(5)"
      ],
      "metadata": {
        "colab": {
          "base_uri": "https://localhost:8080/"
        },
        "id": "lmzivBMA-Crz",
        "outputId": "e24e44ce-4d98-469c-c49f-3747f2cfa051"
      },
      "execution_count": 15,
      "outputs": [
        {
          "output_type": "stream",
          "name": "stdout",
          "text": [
            "+-----------+-----------+-------------+-------------+--------------+------+-----+-----------------+------------------+------------------+--------------------+---------+------------------+-----+\n",
            "|ID_REGISTRO|ENTIDAD_RES|MUNICIPIO_RES|FECHA_INGRESO|FECHA_SINTOMAS|covidt|delta|              lat|              long|               alt|                 qry|dayofyear|       lengthofday|Subst|\n",
            "+-----------+-----------+-------------+-------------+--------------+------+-----+-----------------+------------------+------------------+--------------------+---------+------------------+-----+\n",
            "|     z526b3|          9|           12|   2020-12-21|    2020-12-18|     1|    3|19.20155345588235|-99.20180252450989|3008.9460784313724|Cve_Ent==9 & Cve_...|      356|11.768371962176587|    z|\n",
            "|     z3d1e2|          9|            5|   2020-04-22|    2020-04-20|     1|    2|        19.482945|        -99.113471|            2229.0|Cve_Ent==9 & Cve_...|      113|13.441805501598786|    z|\n",
            "|     z21f6f|          7|            9|   2020-04-27|    2020-04-24|     1|    3|16.21599257359306|-93.93758461688306| 83.17316017316017|Cve_Ent==7 & Cve_...|      118|13.399116765412083|    z|\n",
            "+-----------+-----------+-------------+-------------+--------------+------+-----+-----------------+------------------+------------------+--------------------+---------+------------------+-----+\n",
            "only showing top 3 rows\n",
            "\n"
          ]
        }
      ]
    },
    {
      "cell_type": "markdown",
      "source": [
        "¿Y si, además, quiero transformar en Mayúsculas/Minúsculas?"
      ],
      "metadata": {
        "id": "e1U4Uschv00n"
      }
    },
    {
      "cell_type": "code",
      "source": [
        "df.withColumn('Subst', substring(col('ID_REGISTRO'), 1, 1))\\\n",
        "  .withColumn('Minusc', lower(col('Subst')))\\\n",
        "  .withColumn('Mayusc', upper(col('Subst')))\\\n",
        "  .show(5)"
      ],
      "metadata": {
        "colab": {
          "base_uri": "https://localhost:8080/"
        },
        "id": "OrzTO7dSv6nb",
        "outputId": "230e4ac4-0ba6-452e-e4c9-947986db9a99"
      },
      "execution_count": 20,
      "outputs": [
        {
          "output_type": "stream",
          "name": "stdout",
          "text": [
            "+-----------+-----------+-------------+-------------+--------------+------+-----+------------------+-------------------+------------------+--------------------+---------+------------------+-----+------+------+\n",
            "|ID_REGISTRO|ENTIDAD_RES|MUNICIPIO_RES|FECHA_INGRESO|FECHA_SINTOMAS|covidt|delta|               lat|               long|               alt|                 qry|dayofyear|       lengthofday|Subst|Minusc|Mayusc|\n",
            "+-----------+-----------+-------------+-------------+--------------+------+-----+------------------+-------------------+------------------+--------------------+---------+------------------+-----+------+------+\n",
            "|     z526b3|          9|           12|   2020-12-21|    2020-12-18|     1|    3| 19.20155345588235| -99.20180252450989|3008.9460784313724|Cve_Ent==9 & Cve_...|      356|11.768371962176587|    z|     z|     Z|\n",
            "|     z3d1e2|          9|            5|   2020-04-22|    2020-04-20|     1|    2|         19.482945|         -99.113471|            2229.0|Cve_Ent==9 & Cve_...|      113|13.441805501598786|    z|     z|     Z|\n",
            "|     z21f6f|          7|            9|   2020-04-27|    2020-04-24|     1|    3| 16.21599257359306| -93.93758461688306| 83.17316017316017|Cve_Ent==7 & Cve_...|      118|13.399116765412083|    z|     z|     Z|\n",
            "|     zz9040|         19|           45|   2020-09-06|    2020-09-03|     1|    3| 26.06980561012655|-100.27776220506335| 486.4253164556962|Cve_Ent==19 & Cve...|      250|13.288478608721755|    z|     z|     Z|\n",
            "|     z21c58|         19|           26|   2020-07-10|    2020-07-06|     1|    4|25.679631916666665|-100.16954308333334|            551.75|Cve_Ent==19 & Cve...|      192|14.507914985048014|    z|     z|     Z|\n",
            "+-----------+-----------+-------------+-------------+--------------+------+-----+------------------+-------------------+------------------+--------------------+---------+------------------+-----+------+------+\n",
            "only showing top 5 rows\n",
            "\n"
          ]
        }
      ]
    },
    {
      "cell_type": "code",
      "source": [
        "# Alternativamente\n",
        "df.withColumn('Subst', substring(col('ID_REGISTRO'), 1, 1))\\\n",
        "  .select(lower(col('Subst')), upper(col('Subst')))\\\n",
        "  .show(5)"
      ],
      "metadata": {
        "colab": {
          "base_uri": "https://localhost:8080/"
        },
        "id": "8blOtUdqwgOJ",
        "outputId": "b3ada511-c6f2-4d97-def0-f6a970c76333"
      },
      "execution_count": 24,
      "outputs": [
        {
          "output_type": "stream",
          "name": "stdout",
          "text": [
            "+------------+------------+\n",
            "|lower(Subst)|upper(Subst)|\n",
            "+------------+------------+\n",
            "|           z|           Z|\n",
            "|           z|           Z|\n",
            "|           z|           Z|\n",
            "|           z|           Z|\n",
            "|           z|           Z|\n",
            "+------------+------------+\n",
            "only showing top 5 rows\n",
            "\n"
          ]
        }
      ]
    },
    {
      "cell_type": "markdown",
      "source": [
        "¿Cómo calculo el mínimo/máximo?"
      ],
      "metadata": {
        "id": "ERrVj0guxNIl"
      }
    },
    {
      "cell_type": "code",
      "source": [
        "from pyspark.sql.functions import min, max"
      ],
      "metadata": {
        "id": "FA6uyUaqOpVo"
      },
      "execution_count": 25,
      "outputs": []
    },
    {
      "cell_type": "code",
      "source": [
        "df.select(min(col('FECHA_INGRESO')), max(col('FECHA_INGRESO')))\\\n",
        "  .show()"
      ],
      "metadata": {
        "colab": {
          "base_uri": "https://localhost:8080/"
        },
        "id": "se0KjzWUxVa8",
        "outputId": "940d62b5-e527-4a85-9562-65c4a88c5ae6"
      },
      "execution_count": 27,
      "outputs": [
        {
          "output_type": "stream",
          "name": "stdout",
          "text": [
            "+------------------+------------------+\n",
            "|min(FECHA_INGRESO)|max(FECHA_INGRESO)|\n",
            "+------------------+------------------+\n",
            "|        2020-02-27|        2022-02-08|\n",
            "+------------------+------------------+\n",
            "\n"
          ]
        }
      ]
    },
    {
      "cell_type": "markdown",
      "source": [
        "¿Cómo lo haría con `.withColumn()` ?"
      ],
      "metadata": {
        "id": "KU924FMzxrO_"
      }
    },
    {
      "cell_type": "code",
      "source": [],
      "metadata": {
        "id": "HoID5j2axqxL"
      },
      "execution_count": null,
      "outputs": []
    },
    {
      "cell_type": "markdown",
      "source": [
        "\n",
        "¿Y si quiero calcular qué día es, 14 días después de la fecha máxima de Ingreso?\n"
      ],
      "metadata": {
        "id": "PnPzC00Mxwsh"
      }
    },
    {
      "cell_type": "code",
      "source": [
        "from pyspark.sql.functions import date_add, date_sub"
      ],
      "metadata": {
        "id": "4DeA_jXQxisz"
      },
      "execution_count": 34,
      "outputs": []
    },
    {
      "cell_type": "code",
      "source": [
        "df.select(max(col('FECHA_INGRESO')).alias('MAX_ING'))\\\n",
        "  .select(date_add(col('MAX_ING'), 14))\\\n",
        "  .show()"
      ],
      "metadata": {
        "colab": {
          "base_uri": "https://localhost:8080/"
        },
        "id": "k4MerZ-UyEW8",
        "outputId": "ad1e4ab3-7831-4e4f-a03e-df8f63640e9a"
      },
      "execution_count": 35,
      "outputs": [
        {
          "output_type": "stream",
          "name": "stdout",
          "text": [
            "+---------------------+\n",
            "|date_add(MAX_ING, 14)|\n",
            "+---------------------+\n",
            "|           2022-02-22|\n",
            "+---------------------+\n",
            "\n"
          ]
        }
      ]
    },
    {
      "cell_type": "markdown",
      "source": [
        "Lo anterior, ¿se puede hacer en una sola línea?"
      ],
      "metadata": {
        "id": "H5OiTDRCy4i_"
      }
    },
    {
      "cell_type": "code",
      "source": [],
      "metadata": {
        "id": "ljJMVmS4y3gg"
      },
      "execution_count": null,
      "outputs": []
    },
    {
      "cell_type": "markdown",
      "source": [
        "Por cierto, trabajar con fechas tiene su chiste. Vamos a ver un par de casos interesantes."
      ],
      "metadata": {
        "id": "HYWmwZ9ZzLIo"
      }
    },
    {
      "cell_type": "code",
      "source": [
        "from pyspark.sql.functions import to_date, to_timestamp"
      ],
      "metadata": {
        "id": "cWh4mVKYyYfb"
      },
      "execution_count": 36,
      "outputs": []
    },
    {
      "cell_type": "code",
      "source": [
        "df.select(to_date(col('FECHA_INGRESO'), 'yyyy-MM-dd'), \\\n",
        "          to_timestamp(col('FECHA_INGRESO'), 'yyyy-MM-dd')).show(3)"
      ],
      "metadata": {
        "colab": {
          "base_uri": "https://localhost:8080/"
        },
        "id": "zrZq48rqzSD_",
        "outputId": "a6afe22e-9679-4c50-b793-4e96b388dd40"
      },
      "execution_count": 41,
      "outputs": [
        {
          "output_type": "stream",
          "name": "stdout",
          "text": [
            "+----------------------------------+---------------------------------------+\n",
            "|to_date(FECHA_INGRESO, yyyy-MM-dd)|to_timestamp(FECHA_INGRESO, yyyy-MM-dd)|\n",
            "+----------------------------------+---------------------------------------+\n",
            "|                        2020-12-21|                    2020-12-21 00:00:00|\n",
            "|                        2020-04-22|                    2020-04-22 00:00:00|\n",
            "|                        2020-04-27|                    2020-04-27 00:00:00|\n",
            "+----------------------------------+---------------------------------------+\n",
            "only showing top 3 rows\n",
            "\n"
          ]
        }
      ]
    },
    {
      "cell_type": "code",
      "source": [
        "df.select(col('FECHA_INGRESO'), \\\n",
        "          to_date(col('FECHA_INGRESO'), 'yyyy-MM-dd'), \\\n",
        "          to_timestamp(col('FECHA_INGRESO'), 'yyyy-MM-dd')).printSchema()"
      ],
      "metadata": {
        "colab": {
          "base_uri": "https://localhost:8080/"
        },
        "id": "VpSQ6zKXzplu",
        "outputId": "9e7c102d-9a85-4176-e7d1-b92f223e8292"
      },
      "execution_count": 44,
      "outputs": [
        {
          "output_type": "stream",
          "name": "stdout",
          "text": [
            "root\n",
            " |-- FECHA_INGRESO: string (nullable = true)\n",
            " |-- to_date(FECHA_INGRESO, yyyy-MM-dd): date (nullable = true)\n",
            " |-- to_timestamp(FECHA_INGRESO, yyyy-MM-dd): timestamp (nullable = true)\n",
            "\n"
          ]
        }
      ]
    },
    {
      "cell_type": "markdown",
      "source": [
        "Y al igual que siempre, trabajar con tipos de datos es interesante. Aunque Pyspark puede \"adivinar\" el tipo de dato con el que estoy trabajando, no está de más el hacerlo de manera manual, para agregar una capa extra de seguridad."
      ],
      "metadata": {
        "id": "4MCS-ArI0aL_"
      }
    },
    {
      "cell_type": "code",
      "source": [
        "df.select(col('covidt'), col('delta')).printSchema(3)"
      ],
      "metadata": {
        "colab": {
          "base_uri": "https://localhost:8080/"
        },
        "id": "BxnnPuIg0ZtH",
        "outputId": "a533d834-40a7-4a20-9341-02767559c223"
      },
      "execution_count": 46,
      "outputs": [
        {
          "output_type": "stream",
          "name": "stdout",
          "text": [
            "root\n",
            " |-- covidt: string (nullable = true)\n",
            " |-- delta: string (nullable = true)\n",
            "\n"
          ]
        }
      ]
    },
    {
      "cell_type": "code",
      "source": [
        "df.select(col('covidt') + col('delta')).show(3)"
      ],
      "metadata": {
        "colab": {
          "base_uri": "https://localhost:8080/"
        },
        "id": "FPBALSdYz7oU",
        "outputId": "80563280-74f9-4e4c-d6f2-a4958a0bbe3f"
      },
      "execution_count": 45,
      "outputs": [
        {
          "output_type": "stream",
          "name": "stdout",
          "text": [
            "+----------------+\n",
            "|(covidt + delta)|\n",
            "+----------------+\n",
            "|             4.0|\n",
            "|             3.0|\n",
            "|             4.0|\n",
            "+----------------+\n",
            "only showing top 3 rows\n",
            "\n"
          ]
        }
      ]
    },
    {
      "cell_type": "code",
      "source": [
        "df.select(col('covidt'), col('delta'), col('covidt') + col('delta')).printSchema(3)"
      ],
      "metadata": {
        "colab": {
          "base_uri": "https://localhost:8080/"
        },
        "id": "TPWCtuZC0Ua-",
        "outputId": "5457e4ab-a45f-474a-cd91-cc2be8ca57fa"
      },
      "execution_count": 47,
      "outputs": [
        {
          "output_type": "stream",
          "name": "stdout",
          "text": [
            "root\n",
            " |-- covidt: string (nullable = true)\n",
            " |-- delta: string (nullable = true)\n",
            " |-- (covidt + delta): double (nullable = true)\n",
            "\n"
          ]
        }
      ]
    },
    {
      "cell_type": "markdown",
      "source": [
        "¿Cómo cambio manualmente el tipo de Dato en Pyspark?"
      ],
      "metadata": {
        "id": "fTYiQpsQ0w9u"
      }
    },
    {
      "cell_type": "code",
      "source": [
        "from pyspark.sql.types import StringType, IntegerType, DateType"
      ],
      "metadata": {
        "id": "8v_WkNUu0ups"
      },
      "execution_count": 49,
      "outputs": []
    },
    {
      "cell_type": "code",
      "source": [
        "df.dtypes"
      ],
      "metadata": {
        "id": "Z83Glhkp1gOI"
      },
      "execution_count": null,
      "outputs": []
    },
    {
      "cell_type": "code",
      "source": [
        "df = df.withColumn('covidt_int', df['covidt'].cast(IntegerType()))\n",
        "#df = df.withColumn('covidt_int', col('covidt').cast(IntegerType()))\n",
        "\n",
        "df.dtypes"
      ],
      "metadata": {
        "colab": {
          "base_uri": "https://localhost:8080/"
        },
        "id": "Lu3w_0kM0_zs",
        "outputId": "b44b145c-b010-487a-b0e6-d20d9e69f770"
      },
      "execution_count": 53,
      "outputs": [
        {
          "output_type": "execute_result",
          "data": {
            "text/plain": [
              "[('ID_REGISTRO', 'string'),\n",
              " ('ENTIDAD_RES', 'string'),\n",
              " ('MUNICIPIO_RES', 'string'),\n",
              " ('FECHA_INGRESO', 'string'),\n",
              " ('FECHA_SINTOMAS', 'string'),\n",
              " ('covidt', 'string'),\n",
              " ('delta', 'string'),\n",
              " ('lat', 'string'),\n",
              " ('long', 'string'),\n",
              " ('alt', 'string'),\n",
              " ('qry', 'string'),\n",
              " ('dayofyear', 'string'),\n",
              " ('lengthofday', 'string'),\n",
              " ('covidt_int', 'int')]"
            ]
          },
          "metadata": {},
          "execution_count": 53
        }
      ]
    },
    {
      "cell_type": "markdown",
      "source": [
        "También funciona para Dates (no para Timestamps)\n",
        "\n",
        "(Y nota cómo también puedo sobrescribir columnas)"
      ],
      "metadata": {
        "id": "eN74ssrG2Vzb"
      }
    },
    {
      "cell_type": "code",
      "source": [
        "df = df.withColumn('FECHA_INGRESO', df['FECHA_INGRESO'].cast(DateType()))\n",
        "\n",
        "df.dtypes"
      ],
      "metadata": {
        "colab": {
          "base_uri": "https://localhost:8080/"
        },
        "id": "5ODI-Unl1dwC",
        "outputId": "e890c697-e506-46cc-9777-3ef5aadaccb5"
      },
      "execution_count": 54,
      "outputs": [
        {
          "output_type": "execute_result",
          "data": {
            "text/plain": [
              "[('ID_REGISTRO', 'string'),\n",
              " ('ENTIDAD_RES', 'string'),\n",
              " ('MUNICIPIO_RES', 'string'),\n",
              " ('FECHA_INGRESO', 'date'),\n",
              " ('FECHA_SINTOMAS', 'string'),\n",
              " ('covidt', 'string'),\n",
              " ('delta', 'string'),\n",
              " ('lat', 'string'),\n",
              " ('long', 'string'),\n",
              " ('alt', 'string'),\n",
              " ('qry', 'string'),\n",
              " ('dayofyear', 'string'),\n",
              " ('lengthofday', 'string'),\n",
              " ('covidt_int', 'int')]"
            ]
          },
          "metadata": {},
          "execution_count": 54
        }
      ]
    },
    {
      "cell_type": "markdown",
      "source": [
        "Y funciona de regreso"
      ],
      "metadata": {
        "id": "10k2rv4T2edY"
      }
    },
    {
      "cell_type": "code",
      "source": [
        "df = df.withColumn('covidt_int_str', df['covidt_int'].cast(StringType()))\n",
        "\n",
        "df.dtypes"
      ],
      "metadata": {
        "colab": {
          "base_uri": "https://localhost:8080/"
        },
        "id": "4trQRnJb2SVO",
        "outputId": "28d16668-8a23-47b5-d322-584e894e9661"
      },
      "execution_count": 55,
      "outputs": [
        {
          "output_type": "execute_result",
          "data": {
            "text/plain": [
              "[('ID_REGISTRO', 'string'),\n",
              " ('ENTIDAD_RES', 'string'),\n",
              " ('MUNICIPIO_RES', 'string'),\n",
              " ('FECHA_INGRESO', 'date'),\n",
              " ('FECHA_SINTOMAS', 'string'),\n",
              " ('covidt', 'string'),\n",
              " ('delta', 'string'),\n",
              " ('lat', 'string'),\n",
              " ('long', 'string'),\n",
              " ('alt', 'string'),\n",
              " ('qry', 'string'),\n",
              " ('dayofyear', 'string'),\n",
              " ('lengthofday', 'string'),\n",
              " ('covidt_int', 'int'),\n",
              " ('covidt_int_str', 'string')]"
            ]
          },
          "metadata": {},
          "execution_count": 55
        }
      ]
    },
    {
      "cell_type": "markdown",
      "source": [
        "Recuérdenme, ¿cómo muestro sólo las columnas 'covidt', 'covidt_int' y 'covidt_int_str'?"
      ],
      "metadata": {
        "id": "VASpkSR_2qc1"
      }
    },
    {
      "cell_type": "code",
      "source": [],
      "metadata": {
        "id": "_UrKhKYv2ocE"
      },
      "execution_count": null,
      "outputs": []
    },
    {
      "cell_type": "markdown",
      "source": [
        "Una comparativa entre Spark.SQL y Pyspark"
      ],
      "metadata": {
        "id": "AfIqzZQS3H2m"
      }
    },
    {
      "cell_type": "code",
      "source": [
        "df.createOrReplaceTempView('covid')\n",
        "\n",
        "result = spark.sql('''SELECT\n",
        "                        FECHA_INGRESO,\n",
        "                        DATE(FECHA_INGRESO) AS FECHA_INGRESO_DAT,\n",
        "                        FECHA_INGRESO_DAT + 14\n",
        "                    FROM covid\n",
        "                    ''')\n",
        "\n",
        "result.show(5)"
      ],
      "metadata": {
        "colab": {
          "base_uri": "https://localhost:8080/"
        },
        "id": "7pSQ3uAr3OmY",
        "outputId": "565bde33-c010-420b-cdf4-1b7dc9206dd0"
      },
      "execution_count": 79,
      "outputs": [
        {
          "output_type": "stream",
          "name": "stdout",
          "text": [
            "+-------------+-----------------+------------------------------------------------------+\n",
            "|FECHA_INGRESO|FECHA_INGRESO_DAT|date_add(lateralAliasReference(FECHA_INGRESO_DAT), 14)|\n",
            "+-------------+-----------------+------------------------------------------------------+\n",
            "|   2020-12-21|       2020-12-21|                                            2021-01-04|\n",
            "|   2020-04-22|       2020-04-22|                                            2020-05-06|\n",
            "|   2020-04-27|       2020-04-27|                                            2020-05-11|\n",
            "|   2020-09-06|       2020-09-06|                                            2020-09-20|\n",
            "|   2020-07-10|       2020-07-10|                                            2020-07-24|\n",
            "+-------------+-----------------+------------------------------------------------------+\n",
            "only showing top 5 rows\n",
            "\n"
          ]
        }
      ]
    },
    {
      "cell_type": "code",
      "source": [
        "# No se puede dentro del mismo .select() ... ¿O sí?\n",
        "df.select(to_date(col('FECHA_INGRESO'), 'yyyy-MM-dd').alias('FECHA_INGRESO_DAT'),\n",
        "          max(col('INGRESO_DATE'))).show(3)\n"
      ],
      "metadata": {
        "colab": {
          "base_uri": "https://localhost:8080/",
          "height": 477
        },
        "id": "hYh2ZvtT3ez5",
        "outputId": "dab6c2a3-57bb-4faa-c7a9-5cb89b16b25f"
      },
      "execution_count": 71,
      "outputs": [
        {
          "output_type": "error",
          "ename": "AnalysisException",
          "evalue": "[MISSING_GROUP_BY] The query does not include a GROUP BY clause. Add GROUP BY or turn it into the window functions using OVER clauses.;\nAggregate [to_date(FECHA_INGRESO#766, Some(yyyy-MM-dd), Some(Etc/UTC), false) AS INGRESO_DATE#895, max(lateralAliasReference(INGRESO_DATE)) AS max(lateralAliasReference(INGRESO_DATE))#897]\n+- Project [ID_REGISTRO#17, ENTIDAD_RES#18, MUNICIPIO_RES#19, FECHA_INGRESO#766, FECHA_SINTOMAS#21, covidt#22, delta#23, lat#24, long#25, alt#26, qry#27, dayofyear#28, lengthofday#29, covidt_int#751, cast(covidt_int#751 as string) AS covidt_int_str#781]\n   +- Project [ID_REGISTRO#17, ENTIDAD_RES#18, MUNICIPIO_RES#19, cast(FECHA_INGRESO#20 as date) AS FECHA_INGRESO#766, FECHA_SINTOMAS#21, covidt#22, delta#23, lat#24, long#25, alt#26, qry#27, dayofyear#28, lengthofday#29, covidt_int#751]\n      +- Project [ID_REGISTRO#17, ENTIDAD_RES#18, MUNICIPIO_RES#19, FECHA_INGRESO#20, FECHA_SINTOMAS#21, covidt#22, delta#23, lat#24, long#25, alt#26, qry#27, dayofyear#28, lengthofday#29, cast(covidt#22 as int) AS covidt_int#751]\n         +- Project [ID_REGISTRO#17, ENTIDAD_RES#18, MUNICIPIO_RES#19, FECHA_INGRESO#20, FECHA_SINTOMAS#21, covidt#22, delta#23, lat#24, long#25, alt#26, qry#27, dayofyear#28, lengthofday#29, cast(covidt#22 as int) AS covidt_int#736]\n            +- Relation [ID_REGISTRO#17,ENTIDAD_RES#18,MUNICIPIO_RES#19,FECHA_INGRESO#20,FECHA_SINTOMAS#21,covidt#22,delta#23,lat#24,long#25,alt#26,qry#27,dayofyear#28,lengthofday#29] csv\n",
          "traceback": [
            "\u001b[0;31m---------------------------------------------------------------------------\u001b[0m",
            "\u001b[0;31mAnalysisException\u001b[0m                         Traceback (most recent call last)",
            "\u001b[0;32m<ipython-input-71-873d7f3196f5>\u001b[0m in \u001b[0;36m<cell line: 1>\u001b[0;34m()\u001b[0m\n\u001b[0;32m----> 1\u001b[0;31m df.select(to_date(col('FECHA_INGRESO'), 'yyyy-MM-dd').alias('INGRESO_DATE'),\n\u001b[0m\u001b[1;32m      2\u001b[0m           max(col('INGRESO_DATE'))).show(3)\n",
            "\u001b[0;32m/usr/local/lib/python3.10/dist-packages/pyspark/sql/dataframe.py\u001b[0m in \u001b[0;36mselect\u001b[0;34m(self, *cols)\u001b[0m\n\u001b[1;32m   3227\u001b[0m         \u001b[0;34m+\u001b[0m\u001b[0;34m-\u001b[0m\u001b[0;34m-\u001b[0m\u001b[0;34m-\u001b[0m\u001b[0;34m-\u001b[0m\u001b[0;34m-\u001b[0m\u001b[0;34m+\u001b[0m\u001b[0;34m-\u001b[0m\u001b[0;34m-\u001b[0m\u001b[0;34m-\u001b[0m\u001b[0;34m+\u001b[0m\u001b[0;34m\u001b[0m\u001b[0;34m\u001b[0m\u001b[0m\n\u001b[1;32m   3228\u001b[0m         \"\"\"\n\u001b[0;32m-> 3229\u001b[0;31m         \u001b[0mjdf\u001b[0m \u001b[0;34m=\u001b[0m \u001b[0mself\u001b[0m\u001b[0;34m.\u001b[0m\u001b[0m_jdf\u001b[0m\u001b[0;34m.\u001b[0m\u001b[0mselect\u001b[0m\u001b[0;34m(\u001b[0m\u001b[0mself\u001b[0m\u001b[0;34m.\u001b[0m\u001b[0m_jcols\u001b[0m\u001b[0;34m(\u001b[0m\u001b[0;34m*\u001b[0m\u001b[0mcols\u001b[0m\u001b[0;34m)\u001b[0m\u001b[0;34m)\u001b[0m\u001b[0;34m\u001b[0m\u001b[0;34m\u001b[0m\u001b[0m\n\u001b[0m\u001b[1;32m   3230\u001b[0m         \u001b[0;32mreturn\u001b[0m \u001b[0mDataFrame\u001b[0m\u001b[0;34m(\u001b[0m\u001b[0mjdf\u001b[0m\u001b[0;34m,\u001b[0m \u001b[0mself\u001b[0m\u001b[0;34m.\u001b[0m\u001b[0msparkSession\u001b[0m\u001b[0;34m)\u001b[0m\u001b[0;34m\u001b[0m\u001b[0;34m\u001b[0m\u001b[0m\n\u001b[1;32m   3231\u001b[0m \u001b[0;34m\u001b[0m\u001b[0m\n",
            "\u001b[0;32m/usr/local/lib/python3.10/dist-packages/py4j/java_gateway.py\u001b[0m in \u001b[0;36m__call__\u001b[0;34m(self, *args)\u001b[0m\n\u001b[1;32m   1320\u001b[0m \u001b[0;34m\u001b[0m\u001b[0m\n\u001b[1;32m   1321\u001b[0m         \u001b[0manswer\u001b[0m \u001b[0;34m=\u001b[0m \u001b[0mself\u001b[0m\u001b[0;34m.\u001b[0m\u001b[0mgateway_client\u001b[0m\u001b[0;34m.\u001b[0m\u001b[0msend_command\u001b[0m\u001b[0;34m(\u001b[0m\u001b[0mcommand\u001b[0m\u001b[0;34m)\u001b[0m\u001b[0;34m\u001b[0m\u001b[0;34m\u001b[0m\u001b[0m\n\u001b[0;32m-> 1322\u001b[0;31m         return_value = get_return_value(\n\u001b[0m\u001b[1;32m   1323\u001b[0m             answer, self.gateway_client, self.target_id, self.name)\n\u001b[1;32m   1324\u001b[0m \u001b[0;34m\u001b[0m\u001b[0m\n",
            "\u001b[0;32m/usr/local/lib/python3.10/dist-packages/pyspark/errors/exceptions/captured.py\u001b[0m in \u001b[0;36mdeco\u001b[0;34m(*a, **kw)\u001b[0m\n\u001b[1;32m    183\u001b[0m                 \u001b[0;31m# Hide where the exception came from that shows a non-Pythonic\u001b[0m\u001b[0;34m\u001b[0m\u001b[0;34m\u001b[0m\u001b[0m\n\u001b[1;32m    184\u001b[0m                 \u001b[0;31m# JVM exception message.\u001b[0m\u001b[0;34m\u001b[0m\u001b[0;34m\u001b[0m\u001b[0m\n\u001b[0;32m--> 185\u001b[0;31m                 \u001b[0;32mraise\u001b[0m \u001b[0mconverted\u001b[0m \u001b[0;32mfrom\u001b[0m \u001b[0;32mNone\u001b[0m\u001b[0;34m\u001b[0m\u001b[0;34m\u001b[0m\u001b[0m\n\u001b[0m\u001b[1;32m    186\u001b[0m             \u001b[0;32melse\u001b[0m\u001b[0;34m:\u001b[0m\u001b[0;34m\u001b[0m\u001b[0;34m\u001b[0m\u001b[0m\n\u001b[1;32m    187\u001b[0m                 \u001b[0;32mraise\u001b[0m\u001b[0;34m\u001b[0m\u001b[0;34m\u001b[0m\u001b[0m\n",
            "\u001b[0;31mAnalysisException\u001b[0m: [MISSING_GROUP_BY] The query does not include a GROUP BY clause. Add GROUP BY or turn it into the window functions using OVER clauses.;\nAggregate [to_date(FECHA_INGRESO#766, Some(yyyy-MM-dd), Some(Etc/UTC), false) AS INGRESO_DATE#895, max(lateralAliasReference(INGRESO_DATE)) AS max(lateralAliasReference(INGRESO_DATE))#897]\n+- Project [ID_REGISTRO#17, ENTIDAD_RES#18, MUNICIPIO_RES#19, FECHA_INGRESO#766, FECHA_SINTOMAS#21, covidt#22, delta#23, lat#24, long#25, alt#26, qry#27, dayofyear#28, lengthofday#29, covidt_int#751, cast(covidt_int#751 as string) AS covidt_int_str#781]\n   +- Project [ID_REGISTRO#17, ENTIDAD_RES#18, MUNICIPIO_RES#19, cast(FECHA_INGRESO#20 as date) AS FECHA_INGRESO#766, FECHA_SINTOMAS#21, covidt#22, delta#23, lat#24, long#25, alt#26, qry#27, dayofyear#28, lengthofday#29, covidt_int#751]\n      +- Project [ID_REGISTRO#17, ENTIDAD_RES#18, MUNICIPIO_RES#19, FECHA_INGRESO#20, FECHA_SINTOMAS#21, covidt#22, delta#23, lat#24, long#25, alt#26, qry#27, dayofyear#28, lengthofday#29, cast(covidt#22 as int) AS covidt_int#751]\n         +- Project [ID_REGISTRO#17, ENTIDAD_RES#18, MUNICIPIO_RES#19, FECHA_INGRESO#20, FECHA_SINTOMAS#21, covidt#22, delta#23, lat#24, long#25, alt#26, qry#27, dayofyear#28, lengthofday#29, cast(covidt#22 as int) AS covidt_int#736]\n            +- Relation [ID_REGISTRO#17,ENTIDAD_RES#18,MUNICIPIO_RES#19,FECHA_INGRESO#20,FECHA_SINTOMAS#21,covidt#22,delta#23,lat#24,long#25,alt#26,qry#27,dayofyear#28,lengthofday#29] csv\n"
          ]
        }
      ]
    },
    {
      "cell_type": "code",
      "source": [
        "df.select(to_date(col('FECHA_INGRESO'), 'yyyy-MM-dd').alias('FECHA_INGRESO_DAT'))\\\n",
        "  .select(max(col('FECHA_INGRESO_DAT')).alias('MAX_DATE'))\\\n",
        "  .select(date_add(col('MAX_DATE'), 14))\\\n",
        "  .show(3)\n"
      ],
      "metadata": {
        "colab": {
          "base_uri": "https://localhost:8080/"
        },
        "id": "_bOPQozo4RWM",
        "outputId": "e56e5d7f-81f7-4c92-e5fe-2d3b2d075346"
      },
      "execution_count": 73,
      "outputs": [
        {
          "output_type": "stream",
          "name": "stdout",
          "text": [
            "+----------------------+\n",
            "|date_add(MAX_DATE, 14)|\n",
            "+----------------------+\n",
            "|            2022-02-22|\n",
            "+----------------------+\n",
            "\n"
          ]
        }
      ]
    },
    {
      "cell_type": "code",
      "source": [
        "# Mentí. Sí se puede \"en una sola línea\"\n",
        "df.select(date_add(\\\n",
        "                   max(\\\n",
        "                       to_date(col('FECHA_INGRESO'), 'yyyy-MM-dd')),\n",
        "                   14))\\\n",
        "  .show(3)\n"
      ],
      "metadata": {
        "colab": {
          "base_uri": "https://localhost:8080/"
        },
        "id": "CiQ_IKQZ5Hon",
        "outputId": "f8acd161-c48f-4710-d781-8107a9435407"
      },
      "execution_count": 82,
      "outputs": [
        {
          "output_type": "stream",
          "name": "stdout",
          "text": [
            "+-----------------------------------------------------+\n",
            "|date_add(max(to_date(FECHA_INGRESO, yyyy-MM-dd)), 14)|\n",
            "+-----------------------------------------------------+\n",
            "|                                           2022-02-22|\n",
            "+-----------------------------------------------------+\n",
            "\n"
          ]
        }
      ]
    },
    {
      "cell_type": "code",
      "source": [],
      "metadata": {
        "id": "cgWKh3Ns6Z5E"
      },
      "execution_count": null,
      "outputs": []
    }
  ],
  "metadata": {
    "colab": {
      "provenance": [],
      "include_colab_link": true
    },
    "kernelspec": {
      "display_name": "Python 3",
      "name": "python3"
    },
    "language_info": {
      "name": "python"
    }
  },
  "nbformat": 4,
  "nbformat_minor": 0
}