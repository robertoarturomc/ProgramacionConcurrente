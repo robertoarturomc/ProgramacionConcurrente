{
  "nbformat": 4,
  "nbformat_minor": 0,
  "metadata": {
    "colab": {
      "provenance": [],
      "include_colab_link": true
    },
    "kernelspec": {
      "name": "python3",
      "display_name": "Python 3"
    },
    "language_info": {
      "name": "python"
    }
  },
  "cells": [
    {
      "cell_type": "markdown",
      "metadata": {
        "id": "view-in-github",
        "colab_type": "text"
      },
      "source": [
        "<a href=\"https://colab.research.google.com/github/robertoarturomc/ProgramacionConcurrente/blob/main/14_Multithreading_en_Python_II.ipynb\" target=\"_parent\"><img src=\"https://colab.research.google.com/assets/colab-badge.svg\" alt=\"Open In Colab\"/></a>"
      ]
    },
    {
      "cell_type": "markdown",
      "source": [
        "### Programación Concurrente\n",
        "## 14. Multithreading en Python II\n",
        "\n",
        "### El Algoritmo *Quick sort* para ordenar datos."
      ],
      "metadata": {
        "id": "8UQAJS17EEaI"
      }
    },
    {
      "cell_type": "markdown",
      "source": [
        "![Quick sort2](https://cdn-images-1.medium.com/max/1080/1*zI6AMtMYGWqOQUo80r3v8A.jpeg)\n",
        "\n"
      ],
      "metadata": {
        "id": "87C-sVN2vRYB"
      }
    },
    {
      "cell_type": "markdown",
      "source": [
        "1. Elegir un *Pivote*. Normalmente, agarraremos el último o el primer valor de mi arreglo.\n",
        "2. Colocar los demás valores de ambos lados del pivote. Los más chicos, a la izquierda y los más grandes, a la derecha. Los valores iguales al pivote, pueden ir de cualquier lado.\n",
        "3. Repetir de manera recursiva las operaciones con cada una de las mitades.\n",
        "\n",
        "La implementación tiene complejidad $O(n*log n)$, más baja que otros algoritmos.\n",
        "\n",
        "Si se fijan, una vez dividido el arreglo, ambos se van ordenando de manera independiente. ¿Será posible, entonces, tener una implementación Concurrente?"
      ],
      "metadata": {
        "id": "Z9mMQhvYxBkz"
      }
    },
    {
      "cell_type": "code",
      "source": [
        "import threading"
      ],
      "metadata": {
        "id": "xkx1tjdTUPCF"
      },
      "execution_count": 5,
      "outputs": []
    },
    {
      "cell_type": "code",
      "source": [
        "# Voy a crear una función que me ayude con la partición\n",
        "def partition(nums, low, high):\n",
        "# i va a ser la posición donde va a quedar mi elemento pivote\n",
        "    i = low - 1\n",
        "    pivot = nums[high]\n",
        "\n",
        "    # Hago la comparativa valor a valor\n",
        "    for j in range(low, high):\n",
        "        if nums[j] <= pivot:\n",
        "            i = i + 1\n",
        "            nums[i], nums[j] = nums[j], nums[i]\n",
        "\n",
        "    nums[i + 1], nums[high] = nums[high], nums[i + 1]\n",
        "    return i + 1\n"
      ],
      "metadata": {
        "id": "24GHsWP60QLu"
      },
      "execution_count": 6,
      "outputs": []
    },
    {
      "cell_type": "code",
      "source": [
        "def quick_sort(nums, low, high):\n",
        "    if low < high:\n",
        "        pi = partition(nums, low, high)\n",
        "\n",
        "        # Creo dos threads, uno para cada lado de la función\n",
        "        left_thread = threading.Thread(target=quick_sort, args=(nums, low, pi - 1))\n",
        "        right_thread = threading.Thread(target=quick_sort, args=(nums, pi + 1, high))\n",
        "\n",
        "        # Inicializo ambos hilos\n",
        "        left_thread.start()\n",
        "        right_thread.start()\n",
        "\n",
        "        # Finalizo mis hilos\n",
        "        left_thread.join()\n",
        "        right_thread.join()\n",
        "\n",
        "\n",
        "# Ejemplo\n",
        "arr = [4, 5, 8, 3, 0, 5, 3, 9, 4, 3]\n",
        "print(\"Arreglo original:\", arr)\n",
        "\n",
        "# Ordeno mediante multihilos\n",
        "quick_sort(arr, 0, len(arr) - 1)\n",
        "\n",
        "print(\"Arreglo Ordenado:\", arr)"
      ],
      "metadata": {
        "colab": {
          "base_uri": "https://localhost:8080/"
        },
        "id": "s5n7UDnq0QaU",
        "outputId": "8a8945de-b74d-4e3e-bb9c-dee4e0aaedac"
      },
      "execution_count": 4,
      "outputs": [
        {
          "output_type": "stream",
          "name": "stdout",
          "text": [
            "Arreglo original: [4, 5, 8, 3, 0, 5, 3, 9, 4, 3]\n",
            "Arreglo Ordenado: [0, 3, 3, 3, 4, 4, 5, 5, 8, 9]\n"
          ]
        }
      ]
    },
    {
      "cell_type": "markdown",
      "source": [
        "No obstante, como ya lo hemos platicado antes, usar Concurrencia multihilo no es útil en todas las aplicaciones. El avance, finalmente, sólo se va alternando entre ambas tareas, por lo que el tiempo al final suele ser bastante similar a un equivalente Secuencial.\n",
        "\n",
        "Pero la principal aplicación del multihilo es durante las tareas de I/O (Input/Output), donde la CPU permanece inactiva mientras espera que se carguen los datos. El multihilo juega un papel crucial aquí, ya que este tiempo de inactividad de la CPU se utiliza en otras tareas, lo que lo hace ideal para la optimización.\n",
        "\n",
        "\n",
        "### Requests en internet\n",
        "\n",
        "Para este ejemplo, vamos a usar una de tantas librerías que permiten descargar información. Si lo hacemos de manera Concurrente, cada una se inicializa y comienza una descarga independiente. En este caso, el tiempo de respuesta sí será más veloz que hacerlo de manera Secuencial."
      ],
      "metadata": {
        "id": "j5ZEpteV3LAk"
      }
    },
    {
      "cell_type": "code",
      "source": [
        "import urllib.request\n",
        "\n",
        "\n",
        "# Defino mi función\n",
        "def download_file(url, filename):\n",
        "    print(f\"\\Descargando {filename} from {url}...\")\n",
        "    urllib.request.urlretrieve(url, filename)\n",
        "    print(f\"\\n{filename} descarga exitosa.\")\n",
        "\n",
        "# ¿Qué vamos a descargar?\n",
        "files_to_download = [\n",
        "    {\"url\": \"https://en.wikipedia.org/wiki/British_logistics_in_the_Normandy_campaign\", \"filename\": \"i:\\wfile1.html\"},\n",
        "    {\"url\": \"https://en.wikipedia.org/wiki/Graph_(abstract_data_type)\", \"filename\": \"i:\\Graph_abstract_data_type.html\"},\n",
        "    {\"url\": \"https://pbs.twimg.com/profile_images/1237395014071640067/M5dHDl-g_400x400.jpg\", \"filename\": \"i:\\example.jpg\"}\n",
        "]\n",
        "\n",
        "# Creo una lista donde iré almacenando mi hilos\n",
        "threads = []\n",
        "\n",
        "# Creo un hilo por cada archivo y comienzo mi descarga\n",
        "for file_info in files_to_download:\n",
        "    thread = threading.Thread(\n",
        "        target=download_file,\n",
        "        args=(file_info[\"url\"], file_info[\"filename\"])\n",
        "    )\n",
        "    thread.start()\n",
        "    threads.append(thread)\n",
        "\n",
        "# Me espero a terminar mis descargas\n",
        "for thread in threads:\n",
        "    thread.join()"
      ],
      "metadata": {
        "id": "KJLFA89449Yn",
        "colab": {
          "base_uri": "https://localhost:8080/"
        },
        "outputId": "95f97053-40dd-4ca0-c59e-ad3b4401d76d"
      },
      "execution_count": 12,
      "outputs": [
        {
          "output_type": "stream",
          "name": "stdout",
          "text": [
            "\\Descargando i:\\wfile1.html from https://en.wikipedia.org/wiki/British_logistics_in_the_Normandy_campaign...\n",
            "\\Descargando i:\\Graph_abstract_data_type.html from https://en.wikipedia.org/wiki/Graph_(abstract_data_type)...\n",
            "\\Descargando i:\\example.jpg from https://pbs.twimg.com/profile_images/1237395014071640067/M5dHDl-g_400x400.jpg...\n",
            "\n",
            "i:\\example.jpg descarga exitosa.\n",
            "\n",
            "i:\\Graph_abstract_data_type.html descarga exitosa.\n",
            "\n",
            "i:\\wfile1.html descarga exitosa.\n"
          ]
        }
      ]
    },
    {
      "cell_type": "markdown",
      "source": [
        "## Tarea\n",
        "Invesigar cómo funciona el paquete `multiprocessing` en Python"
      ],
      "metadata": {
        "id": "VXG49fyj8bws"
      }
    },
    {
      "cell_type": "code",
      "source": [],
      "metadata": {
        "id": "DuN-RYnl4gvI"
      },
      "execution_count": null,
      "outputs": []
    }
  ]
}