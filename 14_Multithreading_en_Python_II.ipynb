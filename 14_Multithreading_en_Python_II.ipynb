{
  "nbformat": 4,
  "nbformat_minor": 0,
  "metadata": {
    "colab": {
      "provenance": [],
      "include_colab_link": true
    },
    "kernelspec": {
      "name": "python3",
      "display_name": "Python 3"
    },
    "language_info": {
      "name": "python"
    }
  },
  "cells": [
    {
      "cell_type": "markdown",
      "metadata": {
        "id": "view-in-github",
        "colab_type": "text"
      },
      "source": [
        "<a href=\"https://colab.research.google.com/github/robertoarturomc/ProgramacionConcurrente/blob/main/14_Multithreading_en_Python_II.ipynb\" target=\"_parent\"><img src=\"https://colab.research.google.com/assets/colab-badge.svg\" alt=\"Open In Colab\"/></a>"
      ]
    },
    {
      "cell_type": "markdown",
      "source": [
        "### Programación Concurrente\n",
        "## 14. Multithreading en Python II\n",
        "\n",
        "### El Algoritmo *Quick sort* para ordenar datos."
      ],
      "metadata": {
        "id": "8UQAJS17EEaI"
      }
    },
    {
      "cell_type": "markdown",
      "source": [
        "![Quick sort2](https://cdn-images-1.medium.com/max/1080/1*zI6AMtMYGWqOQUo80r3v8A.jpeg)\n",
        "\n"
      ],
      "metadata": {
        "id": "87C-sVN2vRYB"
      }
    },
    {
      "cell_type": "markdown",
      "source": [
        "1. Elegir un *Pivote*. Normalmente, agarraremos el último o el primer valor de mi arreglo.\n",
        "2. Colocar los demás valores de ambos lados del pivote. Los más chicos, a la izquierda y los más grandes, a la derecha. Los valores iguales al pivote, pueden ir de cualquier lado.\n",
        "3. Repetir de manera recursiva las operaciones con cada una de las mitades.\n",
        "\n",
        "La implementación tiene complejidad promedio de $O(n*log n)$, más baja que otros algoritmos.\n",
        "\n",
        "Si se fijan, una vez dividido el arreglo, ambos se van ordenando de manera independiente. ¿Será posible, entonces, tener una implementación Concurrente?"
      ],
      "metadata": {
        "id": "Z9mMQhvYxBkz"
      }
    },
    {
      "cell_type": "code",
      "source": [
        "import threading"
      ],
      "metadata": {
        "id": "xkx1tjdTUPCF"
      },
      "execution_count": 1,
      "outputs": []
    },
    {
      "cell_type": "code",
      "source": [
        "# Voy a crear una función que me ayude con la partición\n",
        "def partition(nums, low, high):\n",
        "# i va a ser la posición donde va a quedar mi elemento pivote\n",
        "    i = low - 1\n",
        "    pivot = nums[high]\n",
        "\n",
        "    # Hago la comparativa valor a valor\n",
        "    for j in range(low, high):\n",
        "        if nums[j] <= pivot:\n",
        "            i = i + 1\n",
        "            nums[i], nums[j] = nums[j], nums[i]\n",
        "\n",
        "    nums[i + 1], nums[high] = nums[high], nums[i + 1]\n",
        "    return i + 1\n"
      ],
      "metadata": {
        "id": "24GHsWP60QLu"
      },
      "execution_count": 2,
      "outputs": []
    },
    {
      "cell_type": "code",
      "source": [
        "def quick_sort(nums, low, high):\n",
        "    if low < high:\n",
        "        pi = partition(nums, low, high)\n",
        "\n",
        "        # Creo dos threads, uno para cada lado de la función\n",
        "        left_thread = threading.Thread(target=quick_sort, args=(nums, low, pi - 1))\n",
        "        right_thread = threading.Thread(target=quick_sort, args=(nums, pi + 1, high))\n",
        "\n",
        "        # Inicializo ambos hilos\n",
        "        left_thread.start()\n",
        "        right_thread.start()\n",
        "\n",
        "        # Finalizo mis hilos\n",
        "        left_thread.join()\n",
        "        right_thread.join()\n",
        "\n",
        "\n",
        "# Ejemplo\n",
        "arr = [4, 5, 8, 3, 0, 5, 3, 9, 4, 3]\n",
        "print(\"Arreglo original:\", arr)\n",
        "\n",
        "# Ordeno mediante multihilos\n",
        "quick_sort(arr, 0, len(arr) - 1)\n",
        "\n",
        "print(\"Arreglo Ordenado:\", arr)"
      ],
      "metadata": {
        "colab": {
          "base_uri": "https://localhost:8080/"
        },
        "id": "s5n7UDnq0QaU",
        "outputId": "c44682fe-f5d8-40cf-97bc-912e6c7377b7"
      },
      "execution_count": 3,
      "outputs": [
        {
          "output_type": "stream",
          "name": "stdout",
          "text": [
            "Arreglo original: [4, 5, 8, 3, 0, 5, 3, 9, 4, 3]\n",
            "Arreglo Ordenado: [0, 3, 3, 3, 4, 4, 5, 5, 8, 9]\n"
          ]
        }
      ]
    },
    {
      "cell_type": "markdown",
      "source": [
        "No obstante, como ya lo hemos platicado antes, usar Concurrencia multihilo no es útil en todas las aplicaciones. El avance, finalmente, sólo se va alternando entre ambas tareas, por lo que el tiempo al final suele ser bastante similar a un equivalente Secuencial.\n",
        "\n",
        "Pero la principal aplicación del multihilo es durante las tareas de I/O (Input/Output), donde la CPU permanece inactiva mientras espera que se carguen los datos. El multihilo juega un papel crucial aquí, ya que este tiempo de inactividad de la CPU se utiliza en otras tareas, lo que lo hace ideal para la optimización.\n",
        "\n"
      ],
      "metadata": {
        "id": "j5ZEpteV3LAk"
      }
    },
    {
      "cell_type": "markdown",
      "source": [
        "## El Protocolo HTTP\n",
        "\n",
        "El Protocolo de Transferencia de Hipertexto (HTTP) es el lenguaje estándar que usa la web para que los navegadores (clientes) y los servidores web se comuniquen y transfieran recursos como páginas HTML, imágenes o videos. Funciona con un modelo cliente-servidor: el cliente envía una petición (por ejemplo, para ver una página) y el servidor responde con los datos solicitados o un código de estado que indica si la operación fue exitosa o no."
      ],
      "metadata": {
        "id": "rAPkaNF1KnOf"
      }
    },
    {
      "cell_type": "markdown",
      "source": [
        "![Protocolo HTTP](https://www.e-soluciones-tic.com/wp-content/uploads/protocolo_http.png)"
      ],
      "metadata": {
        "id": "XOERTkEbLpE2"
      }
    },
    {
      "cell_type": "markdown",
      "source": [
        "\n",
        "### Requests en internet\n",
        "\n",
        "Para este ejemplo, vamos a usar una de tantas librerías que permiten descargar información. Si lo hacemos de manera Concurrente, cada una se inicializa y comienza una descarga independiente. En este caso, el tiempo de respuesta sí será más veloz que hacerlo de manera Secuencial."
      ],
      "metadata": {
        "id": "IvCnkiUKKfC1"
      }
    },
    {
      "cell_type": "code",
      "source": [
        "import urllib.request\n",
        "\n",
        "\n",
        "# Defino mi función\n",
        "def download_file(url, filename):\n",
        "    print(f\"\\Descargando {filename} from {url}...\")\n",
        "    urllib.request.urlretrieve(url, filename)\n",
        "    print(f\"\\n{filename} descarga exitosa.\")\n",
        "\n",
        "# ¿Qué vamos a descargar?\n",
        "files_to_download = [\n",
        "    {\"url\": \"https://en.wikipedia.org/wiki/British_logistics_in_the_Normandy_campaign\", \"filename\": \"i:\\wfile1.html\"},\n",
        "    {\"url\": \"https://en.wikipedia.org/wiki/Graph_(abstract_data_type)\", \"filename\": \"i:\\Graph_abstract_data_type.html\"},\n",
        "    {\"url\": \"https://pbs.twimg.com/profile_images/1237395014071640067/M5dHDl-g_400x400.jpg\", \"filename\": \"i:\\example.jpg\"}\n",
        "]\n",
        "\n",
        "# Creo una lista donde iré almacenando mi hilos\n",
        "threads = []\n",
        "\n",
        "# Creo un hilo por cada archivo y comienzo mi descarga\n",
        "for file_info in files_to_download:\n",
        "    thread = threading.Thread(\n",
        "        target=download_file,\n",
        "        args=(file_info[\"url\"], file_info[\"filename\"])\n",
        "    )\n",
        "    thread.start()\n",
        "    threads.append(thread)\n",
        "\n",
        "# Me espero a terminar mis descargas\n",
        "for thread in threads:\n",
        "    thread.join()"
      ],
      "metadata": {
        "id": "KJLFA89449Yn",
        "colab": {
          "base_uri": "https://localhost:8080/"
        },
        "outputId": "0ad93753-a915-4502-fdbb-cfcc8b7e62c5"
      },
      "execution_count": 4,
      "outputs": [
        {
          "output_type": "stream",
          "name": "stderr",
          "text": [
            "<>:6: SyntaxWarning: invalid escape sequence '\\D'\n",
            "<>:12: SyntaxWarning: invalid escape sequence '\\w'\n",
            "<>:13: SyntaxWarning: invalid escape sequence '\\G'\n",
            "<>:14: SyntaxWarning: invalid escape sequence '\\e'\n",
            "<>:6: SyntaxWarning: invalid escape sequence '\\D'\n",
            "<>:12: SyntaxWarning: invalid escape sequence '\\w'\n",
            "<>:13: SyntaxWarning: invalid escape sequence '\\G'\n",
            "<>:14: SyntaxWarning: invalid escape sequence '\\e'\n",
            "/tmp/ipython-input-687746329.py:6: SyntaxWarning: invalid escape sequence '\\D'\n",
            "  print(f\"\\Descargando {filename} from {url}...\")\n",
            "/tmp/ipython-input-687746329.py:12: SyntaxWarning: invalid escape sequence '\\w'\n",
            "  {\"url\": \"https://en.wikipedia.org/wiki/British_logistics_in_the_Normandy_campaign\", \"filename\": \"i:\\wfile1.html\"},\n",
            "/tmp/ipython-input-687746329.py:13: SyntaxWarning: invalid escape sequence '\\G'\n",
            "  {\"url\": \"https://en.wikipedia.org/wiki/Graph_(abstract_data_type)\", \"filename\": \"i:\\Graph_abstract_data_type.html\"},\n",
            "/tmp/ipython-input-687746329.py:14: SyntaxWarning: invalid escape sequence '\\e'\n",
            "  {\"url\": \"https://pbs.twimg.com/profile_images/1237395014071640067/M5dHDl-g_400x400.jpg\", \"filename\": \"i:\\example.jpg\"}\n",
            "Exception in thread Thread-16 (download_file):\n",
            "Traceback (most recent call last):\n",
            "  File \"/usr/lib/python3.12/threading.py\", line 1075, in _bootstrap_inner\n",
            "    self.run()\n",
            "  File \"/usr/lib/python3.12/threading.py\", line 1012, in run\n",
            "    self._target(*self._args, **self._kwargs)\n",
            "  File \"/tmp/ipython-input-687746329.py\", line 7, in download_file\n",
            "  File \"/usr/lib/python3.12/urllib/request.py\", line 240, in urlretrieve\n",
            "    with contextlib.closing(urlopen(url, data)) as fp:\n",
            "                            ^^^^^^^^^^^^^^^^^^\n",
            "  File \"/usr/lib/python3.12/urllib/request.py\", line 215, in urlopen\n",
            "    return opener.open(url, data, timeout)\n",
            "           ^^^^^^^^^^^^^^^^^^^^^^^^^^^^^^^\n",
            "  File \"/usr/lib/python3.12/urllib/request.py\", line 521, in open\n",
            "    response = meth(req, response)\n",
            "               ^^^^^^^^^^^^^^^^^^^\n",
            "  File \"/usr/lib/python3.12/urllib/request.py\", line 630, in http_response\n",
            "    response = self.parent.error(\n",
            "               ^^^^^^^^^^^^^^^^^^\n",
            "  File \"/usr/lib/python3.12/urllib/request.py\", line 559, in error\n",
            "    return self._call_chain(*args)\n",
            "           ^^^^^^^^^^^^^^^^^^^^^^^\n",
            "  File \"/usr/lib/python3.12/urllib/request.py\", line 492, in _call_chain\n",
            "    result = func(*args)\n",
            "             ^^^^^^^^^^^\n",
            "  File \"/usr/lib/python3.12/urllib/request.py\", line 639, in http_error_default\n",
            "    raise HTTPError(req.full_url, code, msg, hdrs, fp)\n",
            "urllib.error.HTTPError: HTTP Error 403: Forbidden\n",
            "Exception in thread Thread-15 (download_file):\n",
            "Traceback (most recent call last):\n",
            "  File \"/usr/lib/python3.12/threading.py\", line 1075, in _bootstrap_inner\n",
            "    self.run()\n",
            "  File \"/usr/lib/python3.12/threading.py\", line 1012, in run\n",
            "    self._target(*self._args, **self._kwargs)\n",
            "  File \"/tmp/ipython-input-687746329.py\", line 7, in download_file\n",
            "  File \"/usr/lib/python3.12/urllib/request.py\", line 240, in urlretrieve\n",
            "    with contextlib.closing(urlopen(url, data)) as fp:\n",
            "                            ^^^^^^^^^^^^^^^^^^\n",
            "  File \"/usr/lib/python3.12/urllib/request.py\", line 215, in urlopen\n",
            "    return opener.open(url, data, timeout)\n",
            "           ^^^^^^^^^^^^^^^^^^^^^^^^^^^^^^^\n",
            "  File \"/usr/lib/python3.12/urllib/request.py\", line 521, in open\n",
            "    response = meth(req, response)\n",
            "               ^^^^^^^^^^^^^^^^^^^\n",
            "  File \"/usr/lib/python3.12/urllib/request.py\", line 630, in http_response\n",
            "    response = self.parent.error(\n",
            "               ^^^^^^^^^^^^^^^^^^\n",
            "  File \"/usr/lib/python3.12/urllib/request.py\", line 559, in error\n",
            "    return self._call_chain(*args)\n",
            "           ^^^^^^^^^^^^^^^^^^^^^^^\n",
            "  File \"/usr/lib/python3.12/urllib/request.py\", line 492, in _call_chain\n",
            "    result = func(*args)\n",
            "             ^^^^^^^^^^^\n",
            "  File \"/usr/lib/python3.12/urllib/request.py\", line 639, in http_error_default\n",
            "    raise HTTPError(req.full_url, code, msg, hdrs, fp)\n",
            "urllib.error.HTTPError: HTTP Error 403: Forbidden\n"
          ]
        },
        {
          "output_type": "stream",
          "name": "stdout",
          "text": [
            "\\Descargando i:\\wfile1.html from https://en.wikipedia.org/wiki/British_logistics_in_the_Normandy_campaign...\n",
            "\\Descargando i:\\Graph_abstract_data_type.html from https://en.wikipedia.org/wiki/Graph_(abstract_data_type)...\n",
            "\\Descargando i:\\example.jpg from https://pbs.twimg.com/profile_images/1237395014071640067/M5dHDl-g_400x400.jpg...\n",
            "\n",
            "i:\\example.jpg descarga exitosa.\n"
          ]
        }
      ]
    },
    {
      "cell_type": "markdown",
      "source": [
        "## Tarea\n",
        "Invesigar cómo funciona el paquete `multiprocessing` en Python"
      ],
      "metadata": {
        "id": "VXG49fyj8bws"
      }
    },
    {
      "cell_type": "code",
      "source": [],
      "metadata": {
        "id": "DuN-RYnl4gvI"
      },
      "execution_count": null,
      "outputs": []
    }
  ]
}