{
  "nbformat": 4,
  "nbformat_minor": 0,
  "metadata": {
    "colab": {
      "provenance": [],
      "authorship_tag": "ABX9TyP7gpvpuTb+6T3wDr1TiZC7",
      "include_colab_link": true
    },
    "kernelspec": {
      "name": "python3",
      "display_name": "Python 3"
    },
    "language_info": {
      "name": "python"
    }
  },
  "cells": [
    {
      "cell_type": "markdown",
      "metadata": {
        "id": "view-in-github",
        "colab_type": "text"
      },
      "source": [
        "<a href=\"https://colab.research.google.com/github/robertoarturomc/ProgramacionConcurrente/blob/main/19_Concurrencia_con_asyncio.ipynb\" target=\"_parent\"><img src=\"https://colab.research.google.com/assets/colab-badge.svg\" alt=\"Open In Colab\"/></a>"
      ]
    },
    {
      "cell_type": "markdown",
      "source": [
        "### Programación Concurrente\n",
        "## 19. Concurrencia con asyncio\n",
        "\n",
        "`asyncio` nos permite escribir programas asincrónicos en Python, facilitando la gestión de tareas como:\n",
        "\n",
        "* Servidores web\n",
        "* Bots\n",
        "* Aplicaciones concurrentes"
      ],
      "metadata": {
        "id": "rCFyg0lPwHwk"
      }
    },
    {
      "cell_type": "code",
      "source": [
        "import asyncio\n",
        "\n",
        "async def decir_hola():\n",
        "    print(\"¡Hola!\")\n",
        "    await asyncio.sleep(1)\n",
        "    print(\"¡Adiós!\")\n",
        "\n",
        "# Llamar directamente con await (¡en una celda de Jupyter!)\n",
        "await decir_hola()"
      ],
      "metadata": {
        "colab": {
          "base_uri": "https://localhost:8080/"
        },
        "id": "1M6yu-b1wFZ1",
        "outputId": "8ef88768-b0e6-4af1-cefb-ac1d1e74411e"
      },
      "execution_count": 2,
      "outputs": [
        {
          "output_type": "stream",
          "name": "stdout",
          "text": [
            "¡Hola!\n",
            "¡Adiós!\n"
          ]
        }
      ]
    },
    {
      "cell_type": "markdown",
      "source": [
        "Aquí no trabajamos con Hilos/Procesos, sino con **corrutinas**.\n",
        "\n",
        "`async def` define una corutina.\n",
        "\n",
        "`await` pausa la ejecución hasta que se complete una operación.\n",
        "\n",
        "Nota: estramos trabajando en un Notebook, por lo que estamos ejecutando nuestras corrutinas directamente con otro `await`. En un archivo ejecutable .py, lo haríamos con `asyncio.run()`\n",
        "\n",
        "Por cierto, nota cómo usamos `asyncio.sleep()` en vez de `time.sleep()`. Esto es necesario para garantizar la correcta ejecución. Eso sí, al hacer requests, normalmente es necesario, para evitar ser marcado como un ataque DDoS.\n",
        "\n",
        "### Genial, otra forma de hacer lo mismo de siempre, y ahora el profe me está hablando con abreviaturas que ni entiendo. ¿Al menos hay una ventaja al usar concurrencia asíncrona?\n",
        "\n",
        "Veamos..."
      ],
      "metadata": {
        "id": "8779q620bscU"
      }
    },
    {
      "cell_type": "code",
      "source": [
        "import urllib.request\n",
        "import time"
      ],
      "metadata": {
        "id": "-IF4U4Xxd-1T"
      },
      "execution_count": 33,
      "outputs": []
    },
    {
      "cell_type": "code",
      "source": [
        "def descarga_secuencial(url, filename):\n",
        "    urllib.request.urlretrieve(url, filename)"
      ],
      "metadata": {
        "id": "5gou8wkCbXu8"
      },
      "execution_count": 35,
      "outputs": []
    },
    {
      "cell_type": "code",
      "source": [
        "async def descarga_async(url, filename):\n",
        "  urllib.request.urlretrieve(url, filename)"
      ],
      "metadata": {
        "id": "_DDG9D9RiR5a"
      },
      "execution_count": 36,
      "outputs": []
    },
    {
      "cell_type": "code",
      "source": [
        "mi_url = 'https://example.com/'\n",
        "mi_file = 'Ejemplo.html'\n",
        "mi_file2 = 'Ejemplo2.html'"
      ],
      "metadata": {
        "id": "iYTin7UWfozT"
      },
      "execution_count": 37,
      "outputs": []
    },
    {
      "cell_type": "code",
      "source": [
        "descarga_secuencial(mi_url, mi_file)"
      ],
      "metadata": {
        "id": "8xCs5-Vadwvr"
      },
      "execution_count": 38,
      "outputs": []
    },
    {
      "cell_type": "code",
      "source": [
        "await descarga_async(mi_url, mi_file2)"
      ],
      "metadata": {
        "id": "I9AZGh3OjAQB"
      },
      "execution_count": 39,
      "outputs": []
    },
    {
      "cell_type": "code",
      "source": [
        "start = time.time()\n",
        "\n",
        "for i in range(5):\n",
        "  descarga_secuencial(mi_url, mi_file)\n",
        "\n",
        "print(\"Programa Secuencial Terminado\")\n",
        "\n",
        "end = time.time()\n",
        "\n",
        "print(\"Se tardó \", end-start, \"segundos\")\n"
      ],
      "metadata": {
        "colab": {
          "base_uri": "https://localhost:8080/"
        },
        "id": "AMocPwCokDWR",
        "outputId": "cdffa9c7-507e-4403-a6fe-a14886f37ed1"
      },
      "execution_count": 46,
      "outputs": [
        {
          "output_type": "stream",
          "name": "stdout",
          "text": [
            "Programa Secuencial Terminado\n",
            "Se tardó  1.2345163822174072 segundos\n"
          ]
        }
      ]
    },
    {
      "cell_type": "code",
      "source": [
        "start = time.time()\n",
        "\n",
        "for i in range(5):\n",
        "  await descarga_async(mi_url, mi_file2)\n",
        "\n",
        "print(\"Programa Concurrente (async) Terminado\")\n",
        "\n",
        "end = time.time()\n",
        "\n",
        "print(\"Se tardó \", end-start, \"segundos\")"
      ],
      "metadata": {
        "colab": {
          "base_uri": "https://localhost:8080/"
        },
        "id": "9qYR7ChTkhXD",
        "outputId": "2854b2ba-4760-43e6-a412-15f6c9e1d3a8"
      },
      "execution_count": 48,
      "outputs": [
        {
          "output_type": "stream",
          "name": "stdout",
          "text": [
            "Programa Concurrente (async) Terminado\n",
            "Se tardó  1.215606689453125 segundos\n"
          ]
        }
      ]
    },
    {
      "cell_type": "markdown",
      "source": [
        "Prácticamente lo mismo, ¿no? ¿En dónde está la ventaja?"
      ],
      "metadata": {
        "id": "2lGKrvz2kpug"
      }
    },
    {
      "cell_type": "code",
      "source": [
        "\n",
        "\n",
        "async def main():\n",
        "    await asyncio.gather(\n",
        "      descarga_async(mi_url, 'Ejemplo2A.html'),\n",
        "      descarga_async(mi_url, 'Ejemplo2B.html'),\n",
        "      descarga_async(mi_url, 'Ejemplo2C.html'),\n",
        "      descarga_async(mi_url, 'Ejemplo2D.html'),\n",
        "      descarga_async(mi_url, 'Ejemplo2E.html'),\n",
        "    )\n",
        "\n"
      ],
      "metadata": {
        "id": "qcnSQl4wdx7a"
      },
      "execution_count": 49,
      "outputs": []
    },
    {
      "cell_type": "code",
      "source": [
        "# Va a fallar porque estamos en Notebook; en un ejecutable en Python, sí podría verse el ahorro\n",
        "\n",
        "start = time.time()\n",
        "\n",
        "asyncio.run( main() )\n",
        "\n",
        "print(\"Programa Concurrente (async 2) Terminado\")\n",
        "\n",
        "end = time.time()\n",
        "\n",
        "print(\"Se tardó \", end-start, \"segundos\")"
      ],
      "metadata": {
        "colab": {
          "base_uri": "https://localhost:8080/",
          "height": 332
        },
        "id": "0su1dd1ylws3",
        "outputId": "ad8676e3-6cab-49d5-a80e-e5a03b3cdbab"
      },
      "execution_count": 52,
      "outputs": [
        {
          "output_type": "error",
          "ename": "RuntimeError",
          "evalue": "asyncio.run() cannot be called from a running event loop",
          "traceback": [
            "\u001b[0;31m---------------------------------------------------------------------------\u001b[0m",
            "\u001b[0;31mRuntimeError\u001b[0m                              Traceback (most recent call last)",
            "\u001b[0;32m/tmp/ipython-input-205662596.py\u001b[0m in \u001b[0;36m<cell line: 0>\u001b[0;34m()\u001b[0m\n\u001b[1;32m      3\u001b[0m \u001b[0mstart\u001b[0m \u001b[0;34m=\u001b[0m \u001b[0mtime\u001b[0m\u001b[0;34m.\u001b[0m\u001b[0mtime\u001b[0m\u001b[0;34m(\u001b[0m\u001b[0;34m)\u001b[0m\u001b[0;34m\u001b[0m\u001b[0;34m\u001b[0m\u001b[0m\n\u001b[1;32m      4\u001b[0m \u001b[0;34m\u001b[0m\u001b[0m\n\u001b[0;32m----> 5\u001b[0;31m \u001b[0masyncio\u001b[0m\u001b[0;34m.\u001b[0m\u001b[0mrun\u001b[0m\u001b[0;34m(\u001b[0m \u001b[0mmain\u001b[0m\u001b[0;34m(\u001b[0m\u001b[0;34m)\u001b[0m \u001b[0;34m)\u001b[0m\u001b[0;34m\u001b[0m\u001b[0;34m\u001b[0m\u001b[0m\n\u001b[0m\u001b[1;32m      6\u001b[0m \u001b[0;34m\u001b[0m\u001b[0m\n\u001b[1;32m      7\u001b[0m \u001b[0mprint\u001b[0m\u001b[0;34m(\u001b[0m\u001b[0;34m\"Programa Concurrente (async 2) Terminado\"\u001b[0m\u001b[0;34m)\u001b[0m\u001b[0;34m\u001b[0m\u001b[0;34m\u001b[0m\u001b[0m\n",
            "\u001b[0;32m/usr/lib/python3.12/asyncio/runners.py\u001b[0m in \u001b[0;36mrun\u001b[0;34m(main, debug, loop_factory)\u001b[0m\n\u001b[1;32m    189\u001b[0m     \u001b[0;32mif\u001b[0m \u001b[0mevents\u001b[0m\u001b[0;34m.\u001b[0m\u001b[0m_get_running_loop\u001b[0m\u001b[0;34m(\u001b[0m\u001b[0;34m)\u001b[0m \u001b[0;32mis\u001b[0m \u001b[0;32mnot\u001b[0m \u001b[0;32mNone\u001b[0m\u001b[0;34m:\u001b[0m\u001b[0;34m\u001b[0m\u001b[0;34m\u001b[0m\u001b[0m\n\u001b[1;32m    190\u001b[0m         \u001b[0;31m# fail fast with short traceback\u001b[0m\u001b[0;34m\u001b[0m\u001b[0;34m\u001b[0m\u001b[0m\n\u001b[0;32m--> 191\u001b[0;31m         raise RuntimeError(\n\u001b[0m\u001b[1;32m    192\u001b[0m             \"asyncio.run() cannot be called from a running event loop\")\n\u001b[1;32m    193\u001b[0m \u001b[0;34m\u001b[0m\u001b[0m\n",
            "\u001b[0;31mRuntimeError\u001b[0m: asyncio.run() cannot be called from a running event loop"
          ]
        }
      ]
    },
    {
      "cell_type": "markdown",
      "source": [
        "Es decir, el ahorro real está cuando lo usamos para tareas de I/O, especialmente aquellas que implican acceder y escribir información remota.\n",
        "Pero, como seguro lo recuerdan de su tarea (¿Verdad que todos leyeron?) aún no existe la capacidad directamente en Asyncio de trabajar con información Local de manera asíncrona.\n",
        "\n",
        "### Profe, no sé cómo nadie se lo ha preguntado aún, pero...¿no es parecido a lo que hacíamos con Multihilos - threading ?\n",
        "\n",
        "Sí, en un principio sí. Lo que cambia es lo que pasa por dentro:\n",
        "\n",
        "1. Asyncio solo usa un hilo.\n",
        "2. Asyncio es más \"artesanal\", te da más control.\n",
        "3. Con asyncio las tareas no se paralelizan - solo cooperan entre sí.\n",
        "4. Usa menos memoria.\n",
        "5. Funciona mejor cuando son miles de tareas distintas - inicializar una corrutina es muy ligero."
      ],
      "metadata": {
        "id": "PcWeGGGFnelI"
      }
    },
    {
      "cell_type": "code",
      "source": [],
      "metadata": {
        "id": "r6o3QwrImN3n"
      },
      "execution_count": null,
      "outputs": []
    }
  ]
}