{
  "nbformat": 4,
  "nbformat_minor": 0,
  "metadata": {
    "colab": {
      "provenance": [],
      "include_colab_link": true
    },
    "kernelspec": {
      "name": "python3",
      "display_name": "Python 3"
    },
    "language_info": {
      "name": "python"
    }
  },
  "cells": [
    {
      "cell_type": "markdown",
      "metadata": {
        "id": "view-in-github",
        "colab_type": "text"
      },
      "source": [
        "<a href=\"https://colab.research.google.com/github/robertoarturomc/ProgramacionConcurrente/blob/main/13_Multithreading_en_Python.ipynb\" target=\"_parent\"><img src=\"https://colab.research.google.com/assets/colab-badge.svg\" alt=\"Open In Colab\"/></a>"
      ]
    },
    {
      "cell_type": "markdown",
      "source": [
        "### Programación Concurrente\n",
        "## 13. Multithreading en Python"
      ],
      "metadata": {
        "id": "8UQAJS17EEaI"
      }
    },
    {
      "cell_type": "markdown",
      "source": [
        "Un **proceso** es una instancia de un programa informático que se está ejecutando\n",
        "\n",
        "Un **hilo** (o hebra; *thread* en Inglés) es una entidad dentro de un proceso que se puede programar para su ejecución. Además, es la unidad de procesamiento más pequeña que se puede realizar en un SO (sistema operativo). En palabras simples, un hilo es una secuencia de instrucciones dentro de un programa que se puede ejecutar independientemente de otro código.\n",
        "\n",
        "\n",
        "![Hilos](https://media.geeksforgeeks.org/wp-content/uploads/20230824111450/multithreading-python-21.png)\n",
        "\n"
      ],
      "metadata": {
        "id": "87C-sVN2vRYB"
      }
    },
    {
      "cell_type": "markdown",
      "source": [
        "\n",
        "Cada hilo contiene su propio conjunto de registros y variables locales.\n",
        "Todos los hilos de un proceso comparten variables globales y el código del programa.\n",
        "\n",
        "Un procesador puede ejecutar varios subprocesos simultáneamente. En una CPU simple de un solo núcleo, esto se logra mediante cambios frecuentes entre subprocesos.\n",
        "\n",
        "En Python, esto se puede realizar mediante la librería *threading*."
      ],
      "metadata": {
        "id": "Z9mMQhvYxBkz"
      }
    },
    {
      "cell_type": "markdown",
      "source": [
        "1. Importo la Librería"
      ],
      "metadata": {
        "id": "0fo943F2xDqi"
      }
    },
    {
      "cell_type": "code",
      "source": [
        "import threading"
      ],
      "metadata": {
        "id": "xkx1tjdTUPCF"
      },
      "execution_count": 1,
      "outputs": []
    },
    {
      "cell_type": "markdown",
      "source": [
        "2. Crea Hilos\n",
        "\n",
        "Para crear un nuevo hilo, creamos un objeto de la clase **Thread**. Este toma '*target*' y '*args*' como parámetros. El *target* es la función que ejecutará el hilo, mientras que los *args* son los argumentos que se pasarán a la función *target*.\n",
        "\n",
        "\n",
        "```\n",
        "t1 = threading.Thread(target, args)\n",
        "t2 = threading.Thread(target, args)\n",
        "```\n",
        "\n"
      ],
      "metadata": {
        "id": "NbODnFvCU3H-"
      }
    },
    {
      "cell_type": "markdown",
      "source": [
        "3. Iniciar un hilo\n",
        "\n",
        "Para iniciar un hilo, utilizamos el método start() de la clase Thread.\n",
        "\n",
        "\n",
        "```\n",
        "t1.start()\n",
        "t2.start()\n",
        "```\n",
        "\n"
      ],
      "metadata": {
        "id": "-Q-AB2JKxmf_"
      }
    },
    {
      "cell_type": "markdown",
      "source": [
        "4. Finalizar la ejecución del hilo\n",
        "\n",
        "Mientras no finalice un hilo, este continúa ejecutándose. Para detenerlo, utilizamos el método .join()\n",
        "\n",
        "\n",
        "```\n",
        "t1.join()\n",
        "t2.join()\n",
        "```\n",
        "\n"
      ],
      "metadata": {
        "id": "iMHC5I4GxwJO"
      }
    },
    {
      "cell_type": "markdown",
      "source": [
        "Ejemplo:\n",
        "\n",
        "Vamos a ejecutar un Programa básico: la suma y la resta de dos valores numéricos. Puesto que cada función es independiente de la otra, no debería haber problema entre ellas. Es más, vamos a realizarlo de manera Concurrente, mediante multi-hilos."
      ],
      "metadata": {
        "id": "xoBHRjj5ywGv"
      }
    },
    {
      "cell_type": "code",
      "source": [
        "\n",
        "def add(a, b):\n",
        "    print(\"La suma es: \", a + b)\n",
        "\n",
        "\n",
        "def sub(a, b):\n",
        "   print(\"La resta es: \", a - b)\n",
        "\n",
        "t1 = threading.Thread(target=add, args=(10,4))\n",
        "t2 = threading.Thread(target=sub, args=(10,4))\n",
        "\n",
        "t1.start()\n",
        "t2.start()\n",
        "\n",
        "t1.join()\n",
        "t2.join()"
      ],
      "metadata": {
        "colab": {
          "base_uri": "https://localhost:8080/"
        },
        "id": "zoAj1qmeyBP-",
        "outputId": "f5cc4676-5339-4805-f6b6-255644c133ea"
      },
      "execution_count": 8,
      "outputs": [
        {
          "output_type": "stream",
          "name": "stdout",
          "text": [
            "La suma es:  14\n",
            "La resta es:  6\n"
          ]
        }
      ]
    },
    {
      "cell_type": "markdown",
      "source": [
        "Ejercicio (se carga en Blackboard):\n",
        "\n",
        "1. Define dos variables, a y b. Dales el valor numérico que tú quieras.\n",
        "\n",
        "2. Crea tres funciones en Python.\n",
        "- La primera va a calcular el logaritmo natural de a+b y va a imprimir el resultado.\n",
        "- La segunda va a calcular el valor absoluto a-b y va a imprimir el resultado.\n",
        "- La tercera va a calcular a elevado a la b potencia y va a imprimir el resultado.\n",
        "\n",
        "2. Corre las tres funciones de manera concurrente, usando multi-hilos.\n",
        "\n",
        "3. Ejecuta nuevamente las tres funciones de manera concurrente. Esta vez, juega con el parámetro _timeout_ del método `.join`. ¿Observas algo raro? Describe qué viste y a qué crees que se deba."
      ],
      "metadata": {
        "id": "nhZPXIIf2Ura"
      }
    },
    {
      "cell_type": "code",
      "source": [
        "def add(a, b):\n",
        "    print(\"La suma es: \", np.log(a))\n",
        "\n",
        "def sub(a, b):\n",
        "   print(\"La resta es: \", np.log(b))\n",
        "\n",
        "def sub2(a, b):\n",
        "  print(\"La tres es: \", np.log(a+b))\n",
        "\n",
        "\n",
        "t1 = threading.Thread(target=add, args=(10,4))\n",
        "t2 = threading.Thread(target=sub, args=(10,4))\n",
        "t3 = threading.Thread(target=sub2, args=(10,4))\n",
        "\n",
        "t1.start()\n",
        "t2.start()\n",
        "t3.start()\n",
        "\n",
        "t1.join(timeout=0.00000000000000000001)\n",
        "t2.join(timeout=1)\n",
        "t3.join(timeout=1)"
      ],
      "metadata": {
        "colab": {
          "base_uri": "https://localhost:8080/"
        },
        "id": "G60dAfSz0F-a",
        "outputId": "2f28ebce-3207-4543-dfb8-8a614b152eb7"
      },
      "execution_count": 33,
      "outputs": [
        {
          "output_type": "stream",
          "name": "stdout",
          "text": [
            "La suma es:  La resta es:  1.3862943611198906\n",
            "2.302585092994046\n",
            "La tres es:  2.6390573296152584\n"
          ]
        }
      ]
    },
    {
      "cell_type": "code",
      "source": [
        "import numpy as np"
      ],
      "metadata": {
        "id": "KYY9Awkx2J1B"
      },
      "execution_count": 16,
      "outputs": []
    },
    {
      "cell_type": "code",
      "source": [],
      "metadata": {
        "id": "KJLFA89449Yn"
      },
      "execution_count": null,
      "outputs": []
    }
  ]
}