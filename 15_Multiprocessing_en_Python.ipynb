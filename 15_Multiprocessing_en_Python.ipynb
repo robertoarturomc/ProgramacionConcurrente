{
  "nbformat": 4,
  "nbformat_minor": 0,
  "metadata": {
    "colab": {
      "provenance": [],
      "include_colab_link": true
    },
    "kernelspec": {
      "name": "python3",
      "display_name": "Python 3"
    },
    "language_info": {
      "name": "python"
    }
  },
  "cells": [
    {
      "cell_type": "markdown",
      "metadata": {
        "id": "view-in-github",
        "colab_type": "text"
      },
      "source": [
        "<a href=\"https://colab.research.google.com/github/robertoarturomc/ProgramacionConcurrente/blob/main/15_Multiprocessing_en_Python.ipynb\" target=\"_parent\"><img src=\"https://colab.research.google.com/assets/colab-badge.svg\" alt=\"Open In Colab\"/></a>"
      ]
    },
    {
      "cell_type": "markdown",
      "source": [
        "### Programación Concurrente\n",
        "## 15. Multiprocessing en Python\n",
        "\n",
        "El multiprocesamiento es la capacidad de un procesador de ejecutar varios procesos no relacionados **simultáneamente**. Estos procesos son independientes y no comparten ningún recurso. El multiprocesamiento fragmenta varios procesos en rutinas que se ejecutan de forma independiente.\n",
        "\n",
        "El Global Interpreter Lock  (GIL) es necesario para evitar errores al trabajar con concurrencia de multi-hilos en Python. No obstante, nos limita bastante sobre las tareas que sí podemos hacer. Prácticamente, la única concurrencia con multithilos en donde hay un verdadero ahorro de tiempo es al trabajar con procesos i/o (Inbound/Outbound)\n",
        "\n",
        "El multiprocesamiento en Python es un mecanismo eficaz para la gestión de memoria. Nos permite crear programas que omiten el GIL. Aunque el proceso es diferente de la biblioteca de subprocesos, la sintaxis es bastante similar.\n"
      ],
      "metadata": {
        "id": "8UQAJS17EEaI"
      }
    },
    {
      "cell_type": "code",
      "source": [
        "import multiprocessing"
      ],
      "metadata": {
        "id": "KJLFA89449Yn"
      },
      "execution_count": 1,
      "outputs": []
    },
    {
      "cell_type": "code",
      "source": [
        "def spawn(num):\n",
        "  print(\"Proceso: \" + num)\n",
        "\n",
        "proceso_1 = multiprocessing.Process(target = spawn, args=(\"uno\",) )\n",
        "proceso_2 = multiprocessing.Process(target = spawn, args=(\"dos\",) )\n",
        "\n",
        "proceso_1.start()\n",
        "proceso_2.start()\n",
        "\n",
        "proceso_1.join()\n",
        "proceso_2.join()"
      ],
      "metadata": {
        "id": "DuN-RYnl4gvI",
        "colab": {
          "base_uri": "https://localhost:8080/",
          "height": 0
        },
        "outputId": "116b25eb-c20a-46b1-fc4e-7bdd24115b1f"
      },
      "execution_count": 2,
      "outputs": [
        {
          "output_type": "stream",
          "name": "stdout",
          "text": [
            "Proceso: uno\n",
            "Proceso: dos\n"
          ]
        }
      ]
    },
    {
      "cell_type": "markdown",
      "source": [
        "### Ajá, ¿Y multi-processing no se ve afectado por el GIL?\n",
        "\n",
        "Desde principios de los 2000s, los CPU ya no tienen un único procesador (Core). Trabajando Concurrencia con Multiprocesos podemos trabajar de tal manera que cada procesador vaya ejecutando un Proceso. De esa manera no sólo logramos Concurrencia, sino una primera versión de paralelismo.\n",
        "\n",
        "\n",
        "![Cores](https://i.ytimg.com/vi/RlM9AfWf1WU/sddefault.jpg)\n"
      ],
      "metadata": {
        "id": "7N4KJNXGU8s6"
      }
    },
    {
      "cell_type": "markdown",
      "source": [
        "### Ejemplo: revisar si un número es primo."
      ],
      "metadata": {
        "id": "1ztChi8Fmtzc"
      }
    },
    {
      "cell_type": "code",
      "source": [
        "import math"
      ],
      "metadata": {
        "id": "SXVC5zKDm4FX"
      },
      "execution_count": 3,
      "outputs": []
    },
    {
      "cell_type": "code",
      "source": [
        "\n",
        "def is_prime(n):\n",
        "    \"\"\"Regresa True si n es primo.\"\"\"\n",
        "    if n < 2:\n",
        "        return False\n",
        "    if n == 2:\n",
        "        return True\n",
        "    if n % 2 == 0:\n",
        "        return False\n",
        "    limit = int(math.sqrt(n)) + 1\n",
        "    for i in range(3, limit, 2):\n",
        "        if n % i == 0:\n",
        "            return False\n",
        "    return True\n",
        "\n",
        "\n",
        "def worker(numbers, result_queue):\n",
        "    \"\"\"Creamos trabajadores que se decican a hacer partes del trabajo.\"\"\"\n",
        "    primes = [n for n in numbers if is_prime(n)]\n",
        "    result_queue.put(primes)  # Cada resultado lo mandamos de vuelta al proceso principal\n",
        "\n",
        "\n",
        "if __name__ == \"__main__\":\n",
        "    # Lista de números para revisar\n",
        "    numbers = list(range(1, 100))\n",
        "    num_processes = 4\n",
        "\n",
        "    # Dividimos nuestra lista, dependiendo de cuantos procesos vamos a crear\n",
        "    chunk_size = len(numbers) // num_processes\n",
        "    chunks = [numbers[i:i + chunk_size] for i in range(0, len(numbers), chunk_size)]\n",
        "\n",
        "    # Inicializamos una cola\n",
        "    result_queue = multiprocessing.Queue()\n",
        "\n",
        "    # Iniciamos nuestros procesos\n",
        "    processes = []\n",
        "    for chunk in chunks:\n",
        "        p = multiprocessing.Process(target=worker, args=(chunk, result_queue))\n",
        "        processes.append(p)\n",
        "        p.start()\n",
        "\n",
        "    # Vamos recolectando los resultados de cada proceso\n",
        "    all_primes = []\n",
        "    for _ in processes:\n",
        "        all_primes.extend(result_queue.get())\n",
        "\n",
        "    # Nos esperamos a que cada proceso termine\n",
        "    for p in processes:\n",
        "        p.join()\n",
        "\n",
        "    # (Opcional) ordenamos nuestros resultados\n",
        "    all_primes\n",
        "\n",
        "    print(f\"Números primos encontrados: {all_primes}\")"
      ],
      "metadata": {
        "id": "xvBhaQdgmtF6",
        "outputId": "c29a8477-aa74-477f-a38e-4e5658299668",
        "colab": {
          "base_uri": "https://localhost:8080/",
          "height": 0
        }
      },
      "execution_count": 5,
      "outputs": [
        {
          "output_type": "stream",
          "name": "stdout",
          "text": [
            "Números primos encontrados: [2, 3, 5, 7, 11, 13, 17, 19, 23, 29, 31, 37, 41, 43, 47, 53, 59, 61, 67, 71, 97, 73, 79, 83, 89]\n"
          ]
        }
      ]
    },
    {
      "cell_type": "markdown",
      "source": [
        "## Caso de Estudio\n",
        "\n",
        "¿Cuándo es más eficiente usar concurrencia con múltiples Procesos, comparado con Múltiples Hilos?\n",
        "\n",
        "Busca un ejemplo, ya sea en internet o uno que propongas, en donde sea más eficiente y explícalo **en tus propias palabras**.\n",
        "\n",
        "Formato de entrega:\n",
        "\n",
        "1. Notebook, donde des la explicación por escrito (descárgalo como PDF) ó\n",
        "2. Video, donde expliques, junto con código, por qué es más eficiente.\n",
        "\n",
        "Se evaluará la claridad con la que logres explicar por qué, para el ejemplo que propones, es más eficiente usar múltiples procesos que múltiples hilos. Pueden haber puntos extra por creatividad.\n",
        "\n",
        "Si no logras que el multiproceso sea más rápido que el multihilo, explica pór qué crees que pasó.\n",
        "\n",
        "Fecha de entrega: Máximo 16 de octubre a las 11:59 pm, por Blackboard."
      ],
      "metadata": {
        "id": "3RmwRuPojpLP"
      }
    },
    {
      "cell_type": "code",
      "source": [],
      "metadata": {
        "id": "WZ_-aR-Qg2Ka"
      },
      "execution_count": null,
      "outputs": []
    }
  ]
}