{
  "nbformat": 4,
  "nbformat_minor": 0,
  "metadata": {
    "colab": {
      "provenance": [],
      "authorship_tag": "ABX9TyNF85efzLPFNvn3+SmRldF9",
      "include_colab_link": true
    },
    "kernelspec": {
      "name": "python3",
      "display_name": "Python 3"
    },
    "language_info": {
      "name": "python"
    }
  },
  "cells": [
    {
      "cell_type": "markdown",
      "metadata": {
        "id": "view-in-github",
        "colab_type": "text"
      },
      "source": [
        "<a href=\"https://colab.research.google.com/github/robertoarturomc/ProgramacionConcurrente/blob/main/4_Algoritmos_Secuenciales_II.ipynb\" target=\"_parent\"><img src=\"https://colab.research.google.com/assets/colab-badge.svg\" alt=\"Open In Colab\"/></a>"
      ]
    },
    {
      "cell_type": "code",
      "source": [
        "import numpy as np\n",
        "import pandas as pd\n",
        "import random\n",
        "import time"
      ],
      "metadata": {
        "id": "9ZnkpIVdF4uM"
      },
      "execution_count": 21,
      "outputs": []
    },
    {
      "cell_type": "markdown",
      "source": [
        "### Programación Concurrente\n",
        "## 4. Algoritmos Secuenciales II\n",
        "\n",
        "#### La Búsqueda Secuencial"
      ],
      "metadata": {
        "id": "8UQAJS17EEaI"
      }
    },
    {
      "cell_type": "code",
      "source": [
        "def sequentialSearch(alist, item):\n",
        "  pos = 0\n",
        "  found = False\n",
        "\n",
        "  while pos < len(alist) and not found:\n",
        "    if alist[pos] == item:\n",
        "      found = True\n",
        "    else:\n",
        "      pos = pos+1\n",
        "\n",
        "  return found\n",
        "\n",
        "testlist = [1, 2, 32, 8, 17, 19, 42, 13, 0]\n",
        "print(sequentialSearch(testlist, 3))\n",
        "print(sequentialSearch(testlist, 32))"
      ],
      "metadata": {
        "id": "xkx1tjdTUPCF",
        "outputId": "6842bbc2-135e-4d3a-b844-08cd2f3e500a",
        "colab": {
          "base_uri": "https://localhost:8080/"
        }
      },
      "execution_count": 12,
      "outputs": [
        {
          "output_type": "stream",
          "name": "stdout",
          "text": [
            "False\n",
            "True\n"
          ]
        }
      ]
    },
    {
      "cell_type": "markdown",
      "source": [
        "¿Y si mi lista ya estuviera ordenada?"
      ],
      "metadata": {
        "id": "NbODnFvCU3H-"
      }
    },
    {
      "cell_type": "code",
      "source": [
        "def orderedSequentialSearch(alist, item):\n",
        "  pos = 0\n",
        "  found = False\n",
        "  stop = False\n",
        "\n",
        "  while pos < len(alist) and not found and not stop:\n",
        "    if alist[pos] == item:\n",
        "      found = True\n",
        "    else:\n",
        "      if alist[pos] > item:\n",
        "        stop = True\n",
        "      else:\n",
        "        pos = pos+1\n",
        "\n",
        "\n",
        "  return found\n",
        "\n",
        "testlist = [0, 1, 2, 8, 13, 17, 19, 32, 42]\n",
        "print(orderedSequentialSearch(testlist, 3))\n",
        "print(orderedSequentialSearch(testlist, 13))\n"
      ],
      "metadata": {
        "id": "u7K8mURXU54b",
        "outputId": "97ecc84c-33c4-47e3-bb6a-5f0f1fc89e17",
        "colab": {
          "base_uri": "https://localhost:8080/"
        }
      },
      "execution_count": 14,
      "outputs": [
        {
          "output_type": "stream",
          "name": "stdout",
          "text": [
            "False\n",
            "True\n"
          ]
        }
      ]
    },
    {
      "cell_type": "markdown",
      "source": [
        "Vamos a crear listas con números al azar para probar ambas funciones. Primero, sin ordenar, y luego ordenadas."
      ],
      "metadata": {
        "id": "Q32JaXX5WSCL"
      }
    },
    {
      "cell_type": "code",
      "source": [
        "listas = []\n",
        "for i in range(100):\n",
        "  listas.append([random.randrange(1, 50) for i in range(25)])\n",
        "listas[0:5]"
      ],
      "metadata": {
        "id": "r2OCPvIeWRNv",
        "outputId": "fa018899-bf35-4de3-b7f5-1f9b6fcf7ee8",
        "colab": {
          "base_uri": "https://localhost:8080/"
        }
      },
      "execution_count": 33,
      "outputs": [
        {
          "output_type": "execute_result",
          "data": {
            "text/plain": [
              "[[86, 72, 31, 26, 76, 73, 48, 58, 95, 1],\n",
              " [88, 97, 66, 3, 9, 59, 97, 32, 68, 34],\n",
              " [19, 38, 89, 38, 41, 68, 80, 47, 39, 24],\n",
              " [68, 11, 17, 64, 3, 36, 98, 4, 80, 65],\n",
              " [5, 76, 33, 52, 72, 45, 3, 35, 84, 75]]"
            ]
          },
          "metadata": {},
          "execution_count": 33
        }
      ]
    },
    {
      "cell_type": "code",
      "source": [
        "for i in range(len(listas)):\n",
        "  listas[i] = np.sort(listas[i]).tolist()\n",
        "\n",
        "listas[0:5]"
      ],
      "metadata": {
        "id": "Kb3EuRs-WFTB",
        "outputId": "57edbbfa-1fcd-4af8-8805-66fb1e0ce642",
        "colab": {
          "base_uri": "https://localhost:8080/"
        }
      },
      "execution_count": 34,
      "outputs": [
        {
          "output_type": "execute_result",
          "data": {
            "text/plain": [
              "[[1, 26, 31, 48, 58, 72, 73, 76, 86, 95],\n",
              " [3, 9, 32, 34, 59, 66, 68, 88, 97, 97],\n",
              " [19, 24, 38, 38, 39, 41, 47, 68, 80, 89],\n",
              " [3, 4, 11, 17, 36, 64, 65, 68, 80, 98],\n",
              " [3, 5, 33, 35, 45, 52, 72, 75, 76, 84]]"
            ]
          },
          "metadata": {},
          "execution_count": 34
        }
      ]
    },
    {
      "cell_type": "markdown",
      "source": [
        "### La Búsqueda Binaria"
      ],
      "metadata": {
        "id": "IwYfQ5YYYQab"
      }
    },
    {
      "cell_type": "code",
      "source": [
        "def binarySearch(alist, item):\n",
        "  first = 0\n",
        "  last = len(alist)-1\n",
        "  found = False\n",
        "\n",
        "  while first<=last and not found:\n",
        "    midpoint = (first + last)//2\n",
        "    if alist[midpoint] == item:\n",
        "      found = True\n",
        "    else:\n",
        "      if item < alist[midpoint]:\n",
        "        last = midpoint-1\n",
        "      else:\n",
        "        first = midpoint+1\n",
        "\n",
        "  return found\n",
        "\n",
        "print(binarySearch(testlist, 13))"
      ],
      "metadata": {
        "id": "kBGXPVHPXXsG"
      },
      "execution_count": 35,
      "outputs": []
    },
    {
      "cell_type": "markdown",
      "source": [
        "Incluso, ¡se puede hacer una versión Recursiva, si dividimos en más partes!"
      ],
      "metadata": {
        "id": "skcorfiGY2hl"
      }
    },
    {
      "cell_type": "code",
      "source": [
        "def binarySearch(alist, item):\n",
        "  if len(alist) == 0:\n",
        "    return False\n",
        "  else:\n",
        "    midpoint = len(alist)//2\n",
        "    if alist[midpoint]==item:\n",
        "      return True\n",
        "    else:\n",
        "      if item<alist[midpoint]:\n",
        "        return binarySearch(alist[:midpoint],item)\n",
        "      else:\n",
        "        return binarySearch(alist[midpoint+1:],item)\n",
        "\n",
        "print(binarySearch(testlist, 13))"
      ],
      "metadata": {
        "id": "ZJ9s71B5Ywco",
        "outputId": "0e6a0c51-85f4-478d-b048-9ccc796ba42d",
        "colab": {
          "base_uri": "https://localhost:8080/"
        }
      },
      "execution_count": 40,
      "outputs": [
        {
          "output_type": "stream",
          "name": "stdout",
          "text": [
            "True\n"
          ]
        }
      ]
    },
    {
      "cell_type": "code",
      "source": [],
      "metadata": {
        "id": "l2FMbertYzEb"
      },
      "execution_count": null,
      "outputs": []
    }
  ]
}