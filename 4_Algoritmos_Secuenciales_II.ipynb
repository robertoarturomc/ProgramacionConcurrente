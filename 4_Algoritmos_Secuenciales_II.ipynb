{
  "nbformat": 4,
  "nbformat_minor": 0,
  "metadata": {
    "colab": {
      "provenance": [],
      "include_colab_link": true
    },
    "kernelspec": {
      "name": "python3",
      "display_name": "Python 3"
    },
    "language_info": {
      "name": "python"
    }
  },
  "cells": [
    {
      "cell_type": "markdown",
      "metadata": {
        "id": "view-in-github",
        "colab_type": "text"
      },
      "source": [
        "<a href=\"https://colab.research.google.com/github/robertoarturomc/ProgramacionConcurrente/blob/main/4_Algoritmos_Secuenciales_II.ipynb\" target=\"_parent\"><img src=\"https://colab.research.google.com/assets/colab-badge.svg\" alt=\"Open In Colab\"/></a>"
      ]
    },
    {
      "cell_type": "code",
      "source": [
        "import numpy as np\n",
        "import pandas as pd\n",
        "import random\n",
        "import time"
      ],
      "metadata": {
        "id": "9ZnkpIVdF4uM"
      },
      "execution_count": null,
      "outputs": []
    },
    {
      "cell_type": "markdown",
      "source": [
        "https://www.linkedin.com/feed/update/urn:li:activity:7364438260476993536/"
      ],
      "metadata": {
        "id": "b2_Q46iT-GlJ"
      }
    },
    {
      "cell_type": "markdown",
      "source": [
        "### Programación Concurrente\n",
        "## 4. Algoritmos Secuenciales II\n",
        "\n",
        "#### La Búsqueda Secuencial"
      ],
      "metadata": {
        "id": "8UQAJS17EEaI"
      }
    },
    {
      "cell_type": "code",
      "source": [
        "def sequentialSearch(alist, item):\n",
        "  pos = 0\n",
        "  found = False\n",
        "\n",
        "  while pos < len(alist) and not found:\n",
        "    if alist[pos] == item:\n",
        "      found = True\n",
        "    else:\n",
        "      pos = pos+1\n",
        "\n",
        "  return found\n",
        "\n",
        "testlist_no = [1, 2, 32, 8, 17, 19, 42, 13, 0]\n",
        "print(sequentialSearch(testlist_no, 3))\n",
        "print(sequentialSearch(testlist_no, 32))"
      ],
      "metadata": {
        "id": "xkx1tjdTUPCF",
        "outputId": "dc2cd5ba-053a-4649-a332-4e95cea149a6",
        "colab": {
          "base_uri": "https://localhost:8080/"
        }
      },
      "execution_count": null,
      "outputs": [
        {
          "output_type": "stream",
          "name": "stdout",
          "text": [
            "False\n",
            "True\n"
          ]
        }
      ]
    },
    {
      "cell_type": "markdown",
      "source": [
        "¿Y si mi lista ya estuviera ordenada?"
      ],
      "metadata": {
        "id": "NbODnFvCU3H-"
      }
    },
    {
      "cell_type": "code",
      "source": [
        "def orderedSequentialSearch(alist, item):\n",
        "  pos = 0\n",
        "  found = False\n",
        "  stop = False\n",
        "\n",
        "  while pos < len(alist) and not found and not stop:\n",
        "    if alist[pos] == item:\n",
        "      found = True\n",
        "    else:\n",
        "      if alist[pos] > item:\n",
        "        stop = True\n",
        "      else:\n",
        "        pos = pos+1\n",
        "\n",
        "\n",
        "  return found\n",
        "\n",
        "testlist_ord = [0, 1, 2, 8, 13, 17, 19, 32, 42]\n",
        "print(orderedSequentialSearch(testlist_ord, 3))\n",
        "print(orderedSequentialSearch(testlist_ord, 13))\n",
        "\n",
        "# Puede dar errores cuando usamos listas no ordenadas\n",
        "print(orderedSequentialSearch(testlist_no, 8))"
      ],
      "metadata": {
        "id": "u7K8mURXU54b",
        "outputId": "5c217686-e37d-43cf-c7ed-e675b327e2cb",
        "colab": {
          "base_uri": "https://localhost:8080/"
        }
      },
      "execution_count": null,
      "outputs": [
        {
          "output_type": "stream",
          "name": "stdout",
          "text": [
            "False\n",
            "True\n",
            "False\n"
          ]
        }
      ]
    },
    {
      "cell_type": "markdown",
      "source": [
        "Vamos a crear listas con números al azar para probar ambas funciones. Primero, sin ordenar, y luego ordenadas."
      ],
      "metadata": {
        "id": "Q32JaXX5WSCL"
      }
    },
    {
      "cell_type": "code",
      "source": [
        "listas = []\n",
        "for i in range(100):\n",
        "  listas.append([random.randrange(1, 50) for i in range(25)])\n",
        "listas\n",
        "\n",
        "tiempos = []\n",
        "for x in listas:\n",
        "  start = time.time()\n",
        "  sequentialSearch(x, random.randrange(1, 50))\n",
        "  end = time.time()\n",
        "  tiempos.append(end-start)\n",
        "\n",
        "np.median(tiempos)"
      ],
      "metadata": {
        "id": "r2OCPvIeWRNv",
        "outputId": "dfa763b4-15f9-4f0c-d752-f057262ecd13",
        "colab": {
          "base_uri": "https://localhost:8080/"
        }
      },
      "execution_count": null,
      "outputs": [
        {
          "output_type": "execute_result",
          "data": {
            "text/plain": [
              "7.510185241699219e-06"
            ]
          },
          "metadata": {},
          "execution_count": 6
        }
      ]
    },
    {
      "cell_type": "code",
      "source": [
        "for i in range(len(listas)):\n",
        "  listas[i] = np.sort(listas[i]).tolist()\n",
        "\n"
      ],
      "metadata": {
        "id": "Kb3EuRs-WFTB"
      },
      "execution_count": null,
      "outputs": []
    },
    {
      "cell_type": "code",
      "source": [
        "tiempos = []\n",
        "for x in listas:\n",
        "  start = time.time()\n",
        "  orderedSequentialSearch(x, random.randrange(1, 50))\n",
        "  end = time.time()\n",
        "  tiempos.append(end-start)\n",
        "\n",
        "np.median(tiempos)"
      ],
      "metadata": {
        "id": "eq0cwYyAtQk0",
        "outputId": "08032d45-b0e2-45c0-984d-f84826d1ffc6",
        "colab": {
          "base_uri": "https://localhost:8080/"
        }
      },
      "execution_count": null,
      "outputs": [
        {
          "output_type": "execute_result",
          "data": {
            "text/plain": [
              "3.5762786865234375e-06"
            ]
          },
          "metadata": {},
          "execution_count": 21
        }
      ]
    },
    {
      "cell_type": "markdown",
      "source": [
        "### La Búsqueda Binaria"
      ],
      "metadata": {
        "id": "IwYfQ5YYYQab"
      }
    },
    {
      "cell_type": "code",
      "source": [
        "def binarySearch(alist, item):\n",
        "  first = 0\n",
        "  last = len(alist)-1\n",
        "  found = False\n",
        "\n",
        "  while first<=last and not found:\n",
        "    midpoint = (first + last)//2\n",
        "    if alist[midpoint] == item:\n",
        "      found = True\n",
        "    else:\n",
        "      if item < alist[midpoint]:\n",
        "        last = midpoint-1\n",
        "      else:\n",
        "        first = midpoint+1\n",
        "\n",
        "  return found\n",
        "\n",
        "print(binarySearch(testlist, 13))"
      ],
      "metadata": {
        "id": "kBGXPVHPXXsG"
      },
      "execution_count": null,
      "outputs": []
    },
    {
      "cell_type": "markdown",
      "source": [
        "Incluso, ¡se puede hacer una versión Recursiva!"
      ],
      "metadata": {
        "id": "skcorfiGY2hl"
      }
    },
    {
      "cell_type": "code",
      "source": [
        "def binarySearch(alist, item):\n",
        "  if len(alist) == 0:\n",
        "    return False\n",
        "  else:\n",
        "    midpoint = len(alist)//2\n",
        "    if alist[midpoint]==item:\n",
        "      return True\n",
        "    else:\n",
        "      if item<alist[midpoint]:\n",
        "        return binarySearch(alist[:midpoint],item)\n",
        "      else:\n",
        "        return binarySearch(alist[midpoint+1:],item)\n",
        "\n",
        "print(binarySearch(testlist, 13))"
      ],
      "metadata": {
        "id": "ZJ9s71B5Ywco",
        "outputId": "0e6a0c51-85f4-478d-b048-9ccc796ba42d",
        "colab": {
          "base_uri": "https://localhost:8080/"
        }
      },
      "execution_count": null,
      "outputs": [
        {
          "output_type": "stream",
          "name": "stdout",
          "text": [
            "True\n"
          ]
        }
      ]
    },
    {
      "cell_type": "markdown",
      "source": [
        "**Tarea**: Leer sobre Complejidad Algorítmica: De tiempo y de Espacio. ¿Qué es la Notación O grande? (Big O Notation)"
      ],
      "metadata": {
        "id": "aRm9N_Lbp5Ij"
      }
    },
    {
      "cell_type": "code",
      "source": [],
      "metadata": {
        "id": "anxmpHcni4yD"
      },
      "execution_count": null,
      "outputs": []
    }
  ]
}