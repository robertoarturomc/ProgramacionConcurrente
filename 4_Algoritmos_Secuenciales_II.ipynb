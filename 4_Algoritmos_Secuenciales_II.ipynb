{
  "nbformat": 4,
  "nbformat_minor": 0,
  "metadata": {
    "colab": {
      "provenance": [],
      "authorship_tag": "ABX9TyMtWRo79loVLNv8uCOteQS4",
      "include_colab_link": true
    },
    "kernelspec": {
      "name": "python3",
      "display_name": "Python 3"
    },
    "language_info": {
      "name": "python"
    }
  },
  "cells": [
    {
      "cell_type": "markdown",
      "metadata": {
        "id": "view-in-github",
        "colab_type": "text"
      },
      "source": [
        "<a href=\"https://colab.research.google.com/github/robertoarturomc/ProgramacionConcurrente/blob/main/4_Algoritmos_Secuenciales_II.ipynb\" target=\"_parent\"><img src=\"https://colab.research.google.com/assets/colab-badge.svg\" alt=\"Open In Colab\"/></a>"
      ]
    },
    {
      "cell_type": "code",
      "source": [
        "import numpy as np\n",
        "import pandas as pd\n",
        "import time"
      ],
      "metadata": {
        "id": "9ZnkpIVdF4uM"
      },
      "execution_count": null,
      "outputs": []
    },
    {
      "cell_type": "markdown",
      "source": [
        "### Programación Concurrente\n",
        "## 4. Algoritmos Secuenciales II\n",
        "\n",
        "#### La Búsqueda Secuencial"
      ],
      "metadata": {
        "id": "8UQAJS17EEaI"
      }
    },
    {
      "cell_type": "markdown",
      "source": [
        "2. Con Estructuras de Control.\n",
        "\n",
        "Las Estructuras de Control, como lo son las condicionales, los ciclos *for* y *while*, no es Programación Secuencial en su forma más _pura_, ya que pueden termina resultando en código que no necesariamente se ejecuta. No obstante, son una herramienta importante para dejar código más legible.\n",
        "\n",
        "Con un par de ciclos, podríamos generar _rows_ nuevamente, pero con menor código. Además, estableceríamos una condición para saber cuándo detenernos."
      ],
      "metadata": {
        "id": "GhskuWbgNguO"
      }
    },
    {
      "cell_type": "code",
      "source": [
        "rows = [\n",
        "    [1],\n",
        " [1, 1]\n",
        "     ]\n",
        "\n",
        "# Para crear 5 hileras:\n",
        "for i in range (2,6):\n",
        "  row_k = [1]\n",
        "  for j in range (0, i-1):\n",
        "    row_k.append( rows[i-1][j] + rows[i-1][j+1] )\n",
        "  row_k.append(1)\n",
        "  rows.append(row_k)\n",
        "\n",
        "rows"
      ],
      "metadata": {
        "colab": {
          "base_uri": "https://localhost:8080/"
        },
        "id": "496biyCKNYEn",
        "outputId": "2582e3f4-825f-4265-9b0a-a96335c461bc"
      },
      "execution_count": null,
      "outputs": [
        {
          "output_type": "execute_result",
          "data": {
            "text/plain": [
              "[[1], [1, 1], [1, 2, 1], [1, 3, 3, 1], [1, 4, 6, 4, 1], [1, 5, 10, 10, 5, 1]]"
            ]
          },
          "metadata": {},
          "execution_count": 30
        }
      ]
    },
    {
      "cell_type": "markdown",
      "source": [
        "3. Con una Fórmula Directa.\n",
        "\n",
        "En realidad, no necesariamente tenemos que ir calculando tooodas las hileras anteriores; hay una fórmula para calcular directamente los valores de la hilera. Los valores del triángulo de Pascal son:\n",
        "\n",
        "![Pascal Combinatoria](https://study.com/cimages/multimages/16/epastricom4.png)\n",
        "\n",
        "\n",
        "Eso sí, las Combinaciones requieren el uso de Factoriales...y el cálculo de Factoriales también implica andar guardando valores anteriores.\n",
        "\n",
        "Eso sí; Python permite la Recursividad. Es decir, que podamos usar una Función para definirse a si misma. Por ejemplo, para el problema que estamos analizando, podemos desarrollar las siguientes funciones."
      ],
      "metadata": {
        "id": "jqgrrdaaWrJM"
      }
    },
    {
      "cell_type": "code",
      "source": [
        "def factorial(num):\n",
        "    if num > 0:\n",
        "        return int(num*factorial(num-1))\n",
        "    else:\n",
        "        return 1\n",
        "\n",
        "def combinatoria(num1, num2):\n",
        "    return int(factorial(num1) / (factorial(num2)*factorial(num1-num2)))\n",
        "\n",
        "combinatoria(5, 3)"
      ],
      "metadata": {
        "colab": {
          "base_uri": "https://localhost:8080/"
        },
        "id": "F5VQVjGiWpAZ",
        "outputId": "84e33afb-0774-49ae-9200-230cf1e59d8b"
      },
      "execution_count": null,
      "outputs": [
        {
          "output_type": "execute_result",
          "data": {
            "text/plain": [
              "10"
            ]
          },
          "metadata": {},
          "execution_count": 44
        }
      ]
    },
    {
      "cell_type": "markdown",
      "source": [
        "Por lo tanto, podemos calcular la k-ésima hilera directamente:"
      ],
      "metadata": {
        "id": "pCnp2S6Wa3z5"
      }
    },
    {
      "cell_type": "code",
      "source": [
        "def pascal_recursivo(k):\n",
        "  row_k = []\n",
        "  for j in range (0, k+1):\n",
        "    row_k.append( combinatoria(k, j) )\n",
        "\n",
        "  return row_k\n",
        "\n",
        "pascal_recursivo(5)"
      ],
      "metadata": {
        "colab": {
          "base_uri": "https://localhost:8080/"
        },
        "id": "qeoPgsX_NVsr",
        "outputId": "84b47637-247e-4ea1-ac88-3ea7994d5c5b"
      },
      "execution_count": null,
      "outputs": [
        {
          "output_type": "execute_result",
          "data": {
            "text/plain": [
              "[1, 5, 10, 10, 5, 1]"
            ]
          },
          "metadata": {},
          "execution_count": 48
        }
      ]
    },
    {
      "cell_type": "markdown",
      "source": [
        "Reflexión: ¿qué método es más rápido?"
      ],
      "metadata": {
        "id": "SWGIA3wMbhVF"
      }
    },
    {
      "cell_type": "code",
      "source": [],
      "metadata": {
        "id": "XxVxcNJJX_Fx"
      },
      "execution_count": null,
      "outputs": []
    },
    {
      "cell_type": "code",
      "source": [
        "duracion_recursivo = []\n",
        "for i in range(1, 10):\n",
        "  start = time.time()\n",
        "  pascal_recursivo(5)\n",
        "  end = time.time()\n",
        "  duracion_recursivo.append(end - start)\n",
        "\n",
        "print(np.mean(duracion_recursivo))\n"
      ],
      "metadata": {
        "colab": {
          "base_uri": "https://localhost:8080/"
        },
        "id": "EL6apuyMbl7o",
        "outputId": "9612701a-223a-417a-a243-939d6aa8c9af"
      },
      "execution_count": null,
      "outputs": [
        {
          "output_type": "stream",
          "name": "stdout",
          "text": [
            "1.769595675998264e-05\n"
          ]
        }
      ]
    },
    {
      "cell_type": "markdown",
      "source": [
        "Ejercicio (se deberá cargar en Blackboard)\n",
        "\n",
        "Programar el cálculo de la suma de los _n_ primeros números naturales:\n",
        "\n",
        "1. Sumándolos directamente (puedes usar recursividad o un ciclo).\n",
        "\n",
        "2. Ocupando una fórmula resumida.\n",
        "\n",
        "Calcula qué método es más rápido computacionalmente."
      ],
      "metadata": {
        "id": "NEXIZtsgcNGh"
      }
    },
    {
      "cell_type": "code",
      "source": [],
      "metadata": {
        "id": "Dc8oZQZAcDrN"
      },
      "execution_count": null,
      "outputs": []
    }
  ]
}